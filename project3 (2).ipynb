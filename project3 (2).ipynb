{
 "cells": [
  {
   "cell_type": "markdown",
   "metadata": {},
   "source": [
    "### Starter code for Project 3. \n",
    "#### Run these cells before starting the assignment. "
   ]
  },
  {
   "cell_type": "markdown",
   "metadata": {},
   "source": [
    "#### 1. create BQ dataset:"
   ]
  },
  {
   "cell_type": "code",
   "execution_count": 3,
   "metadata": {
    "tags": []
   },
   "outputs": [
    {
     "name": "stdout",
     "output_type": "stream",
     "text": [
      "env: dataset_id=school_enrollments\n"
     ]
    }
   ],
   "source": [
    "%env dataset_id=school_enrollments"
   ]
  },
  {
   "cell_type": "code",
   "execution_count": 4,
   "metadata": {
    "tags": []
   },
   "outputs": [
    {
     "name": "stdout",
     "output_type": "stream",
     "text": [
      "BigQuery error in mk operation: Dataset 'datamaxxing:school_enrollments' already\n",
      "exists.\n"
     ]
    }
   ],
   "source": [
    "!bq --location=US mk --dataset $dataset_id"
   ]
  },
  {
   "cell_type": "markdown",
   "metadata": {},
   "source": [
    "#### 2. create and populate BQ tables:"
   ]
  },
  {
   "cell_type": "code",
   "execution_count": 5,
   "metadata": {
    "tags": []
   },
   "outputs": [],
   "source": [
    "import os"
   ]
  },
  {
   "cell_type": "code",
   "execution_count": 6,
   "metadata": {
    "tags": []
   },
   "outputs": [
    {
     "name": "stdout",
     "output_type": "stream",
     "text": [
      "bq --location=US load --autodetect --skip_leading_rows=1 --source_format=CSV school_enrollments.ak gs://cs327e-open-access-2/school-enrollments/zf406jp4427_ak.csv\n",
      "\n"
     ]
    },
    {
     "name": "stderr",
     "output_type": "stream",
     "text": [
      "Waiting on bqjob_r6889ddb5fd978172_0000019a30a46bed_1 ... (3s) Current status: DONE   \n"
     ]
    },
    {
     "name": "stdout",
     "output_type": "stream",
     "text": [
      "bq --location=US load --autodetect --skip_leading_rows=1 --source_format=CSV school_enrollments.ar gs://cs327e-open-access-2/school-enrollments/zf406jp4427_ar.csv\n",
      "\n"
     ]
    },
    {
     "name": "stderr",
     "output_type": "stream",
     "text": [
      "Waiting on bqjob_r1e135572f56e5dc1_0000019a30a4899d_1 ... (23s) Current status: DONE   \n"
     ]
    },
    {
     "name": "stdout",
     "output_type": "stream",
     "text": [
      "bq --location=US load --autodetect --skip_leading_rows=1 --source_format=CSV school_enrollments.ca gs://cs327e-open-access-2/school-enrollments/zf406jp4427_ca.csv\n",
      "\n"
     ]
    },
    {
     "name": "stderr",
     "output_type": "stream",
     "text": [
      "Waiting on bqjob_rad2a47cc5dc33a9_0000019a30a4f575_1 ... (8s) Current status: DONE   \n"
     ]
    },
    {
     "name": "stdout",
     "output_type": "stream",
     "text": [
      "skipping co\n",
      "bq --location=US load --autodetect --skip_leading_rows=1 --source_format=CSV school_enrollments.ct gs://cs327e-open-access-2/school-enrollments/zf406jp4427_ct.csv\n",
      "\n"
     ]
    },
    {
     "name": "stderr",
     "output_type": "stream",
     "text": [
      "Waiting on bqjob_r772747b66a7ba86_0000019a30a525be_1 ... (2s) Current status: DONE   \n"
     ]
    },
    {
     "name": "stdout",
     "output_type": "stream",
     "text": [
      "skipping district\n",
      "skipping fl\n",
      "skipping ga\n",
      "bq --location=US load --autodetect --skip_leading_rows=1 --source_format=CSV school_enrollments.hi gs://cs327e-open-access-2/school-enrollments/zf406jp4427_hi.csv\n",
      "\n"
     ]
    },
    {
     "name": "stderr",
     "output_type": "stream",
     "text": [
      "Waiting on bqjob_r2db7893df8d662f7_0000019a30a53f38_1 ... (2s) Current status: DONE   \n"
     ]
    },
    {
     "name": "stdout",
     "output_type": "stream",
     "text": [
      "skipping id\n",
      "bq --location=US load --autodetect --skip_leading_rows=1 --source_format=CSV school_enrollments.la gs://cs327e-open-access-2/school-enrollments/zf406jp4427_la.csv\n",
      "\n"
     ]
    },
    {
     "name": "stderr",
     "output_type": "stream",
     "text": [
      "Waiting on bqjob_r4b27462067368898_0000019a30a5579f_1 ... (3s) Current status: DONE   \n"
     ]
    },
    {
     "name": "stdout",
     "output_type": "stream",
     "text": [
      "skipping ma\n",
      "bq --location=US load --autodetect --skip_leading_rows=1 --source_format=CSV school_enrollments.md gs://cs327e-open-access-2/school-enrollments/zf406jp4427_md.csv\n",
      "\n"
     ]
    },
    {
     "name": "stderr",
     "output_type": "stream",
     "text": [
      "Waiting on bqjob_r783fd070b4a159de_0000019a30a57469_1 ... (1s) Current status: DONE   \n"
     ]
    },
    {
     "name": "stdout",
     "output_type": "stream",
     "text": [
      "bq --location=US load --autodetect --skip_leading_rows=1 --source_format=CSV school_enrollments.mn gs://cs327e-open-access-2/school-enrollments/zf406jp4427_mn.csv\n",
      "\n"
     ]
    },
    {
     "name": "stderr",
     "output_type": "stream",
     "text": [
      "Waiting on bqjob_r4ae59d9067fc2a21_0000019a30a5884b_1 ... (3s) Current status: DONE   \n"
     ]
    },
    {
     "name": "stdout",
     "output_type": "stream",
     "text": [
      "skipping mo\n",
      "bq --location=US load --autodetect --skip_leading_rows=1 --source_format=CSV school_enrollments.ms gs://cs327e-open-access-2/school-enrollments/zf406jp4427_ms.csv\n",
      "\n"
     ]
    },
    {
     "name": "stderr",
     "output_type": "stream",
     "text": [
      "Waiting on bqjob_r7c904aeb264b753_0000019a30a5a783_1 ... (2s) Current status: DONE   \n"
     ]
    },
    {
     "name": "stdout",
     "output_type": "stream",
     "text": [
      "skipping ne\n",
      "bq --location=US load --autodetect --skip_leading_rows=1 --source_format=CSV school_enrollments.nh gs://cs327e-open-access-2/school-enrollments/zf406jp4427_nh.csv\n",
      "\n"
     ]
    },
    {
     "name": "stderr",
     "output_type": "stream",
     "text": [
      "Waiting on bqjob_r44daec34e9899c36_0000019a30a5bfe8_1 ... (2s) Current status: DONE   \n"
     ]
    },
    {
     "name": "stdout",
     "output_type": "stream",
     "text": [
      "bq --location=US load --autodetect --skip_leading_rows=1 --source_format=CSV school_enrollments.nv gs://cs327e-open-access-2/school-enrollments/zf406jp4427_nv.csv\n",
      "\n"
     ]
    },
    {
     "name": "stderr",
     "output_type": "stream",
     "text": [
      "Waiting on bqjob_r41c6db8af9ef310f_0000019a30a5d99c_1 ... (3s) Current status: DONE   \n"
     ]
    },
    {
     "name": "stdout",
     "output_type": "stream",
     "text": [
      "skipping ny\n",
      "bq --location=US load --autodetect --skip_leading_rows=1 --source_format=CSV school_enrollments.ok gs://cs327e-open-access-2/school-enrollments/zf406jp4427_ok.csv\n",
      "\n"
     ]
    },
    {
     "name": "stderr",
     "output_type": "stream",
     "text": [
      "Waiting on bqjob_r1d3d28997b52456e_0000019a30a5f632_1 ... (15s) Current status: DONE   \n"
     ]
    },
    {
     "name": "stdout",
     "output_type": "stream",
     "text": [
      "skipping or\n",
      "bq --location=US load --autodetect --skip_leading_rows=1 --source_format=CSV school_enrollments.pa gs://cs327e-open-access-2/school-enrollments/zf406jp4427_pa.csv\n",
      "\n"
     ]
    },
    {
     "name": "stderr",
     "output_type": "stream",
     "text": [
      "Waiting on bqjob_r63fdaabdb80884ef_0000019a30a6424e_1 ... (3s) Current status: DONE   \n"
     ]
    },
    {
     "name": "stdout",
     "output_type": "stream",
     "text": [
      "bq --location=US load --autodetect --skip_leading_rows=1 --source_format=CSV school_enrollments.sc gs://cs327e-open-access-2/school-enrollments/zf406jp4427_sc.csv\n",
      "\n"
     ]
    },
    {
     "name": "stderr",
     "output_type": "stream",
     "text": [
      "Waiting on bqjob_r6348c66bf5f3072e_0000019a30a65ebe_1 ... (2s) Current status: DONE   \n"
     ]
    },
    {
     "name": "stdout",
     "output_type": "stream",
     "text": [
      "skipping school\n",
      "skipping sd\n",
      "bq --location=US load --autodetect --skip_leading_rows=1 --source_format=CSV school_enrollments.tx gs://cs327e-open-access-2/school-enrollments/zf406jp4427_tx.csv\n",
      "\n"
     ]
    },
    {
     "name": "stderr",
     "output_type": "stream",
     "text": [
      "Waiting on bqjob_r7706839d4a57185f_0000019a30a6770e_1 ... (3s) Current status: DONE   \n"
     ]
    },
    {
     "name": "stdout",
     "output_type": "stream",
     "text": [
      "bq --location=US load --autodetect --skip_leading_rows=1 --source_format=CSV school_enrollments.wa gs://cs327e-open-access-2/school-enrollments/zf406jp4427_wa.csv\n",
      "\n"
     ]
    },
    {
     "name": "stderr",
     "output_type": "stream",
     "text": [
      "Waiting on bqjob_r3d36fab268950c7f_0000019a30a69349_1 ... (5s) Current status: DONE   \n"
     ]
    },
    {
     "name": "stdout",
     "output_type": "stream",
     "text": [
      "skipping wi\n",
      "bq --location=US load --autodetect --skip_leading_rows=1 --source_format=CSV school_enrollments.wy gs://cs327e-open-access-2/school-enrollments/zf406jp4427_wy.csv\n",
      "\n"
     ]
    },
    {
     "name": "stderr",
     "output_type": "stream",
     "text": [
      "Waiting on bqjob_r36196dda6de9b5ab_0000019a30a6bd44_1 ... (2s) Current status: DONE   \n"
     ]
    }
   ],
   "source": [
    "gsutil_cmd = \"gsutil ls gs://cs327e-open-access-2/school-enrollments/*\"\n",
    "\n",
    "file_listings = os.popen(gsutil_cmd)\n",
    "dataset=\"school_enrollments\"\n",
    "\n",
    "for file in file_listings:\n",
    "\n",
    "    start_index = file.rindex(\"_\") + 1\n",
    "    end_index = file.rindex(\".\")\n",
    "    table = file[start_index:end_index]\n",
    "    \n",
    "    if table in (\"co\", \"district\", \"fl\", \"ga\", \"id\", \"ma\", \"mo\", \"ne\", \"ny\", \"or\", \"school\", \"sd\", \"wi\"):\n",
    "        print(\"skipping \" + table)\n",
    "        continue\n",
    "\n",
    "    bq_cmd = \"bq --location=US load --autodetect --skip_leading_rows=1 \"\\\n",
    "             \"--source_format=CSV \" + dataset + \".\" + table + ' ' + file\n",
    "    print(bq_cmd)\n",
    "    \n",
    "    os.system(bq_cmd)"
   ]
  },
  {
   "cell_type": "markdown",
   "metadata": {},
   "source": [
    "#### 3. Find school enrollments by school name, grade level, and year for Texas "
   ]
  },
  {
   "cell_type": "code",
   "execution_count": 22,
   "metadata": {},
   "outputs": [
    {
     "name": "stdout",
     "output_type": "stream",
     "text": [
      "[{\"name\":\"state\",\"type\":\"STRING\",\"mode\":\"NULLABLE\"},{\"name\":\"county\",\"type\":\"STRING\",\"mode\":\"NULLABLE\"},{\"name\":\"county_state_id\",\"type\":\"STRING\",\"mode\":\"NULLABLE\"},{\"name\":\"admin_level\",\"type\":\"STRING\",\"mode\":\"NULLABLE\"},{\"name\":\"district_nces_id\",\"type\":\"INTEGER\",\"mode\":\"NULLABLE\"},{\"name\":\"district_state_id\",\"type\":\"INTEGER\",\"mode\":\"NULLABLE\"},{\"name\":\"district_state_type\",\"type\":\"STRING\",\"mode\":\"NULLABLE\"},{\"name\":\"district\",\"type\":\"STRING\",\"mode\":\"NULLABLE\"},{\"name\":\"ccd_district_type\",\"type\":\"STRING\",\"mode\":\"NULLABLE\"},{\"name\":\"ccd_charter\",\"type\":\"STRING\",\"mode\":\"NULLABLE\"},{\"name\":\"ccd_district_lvl\",\"type\":\"STRING\",\"mode\":\"NULLABLE\"},{\"name\":\"ccd_district_low_grade\",\"type\":\"STRING\",\"mode\":\"NULLABLE\"},{\"name\":\"ccd_district_high_grade\",\"type\":\"STRING\",\"mode\":\"NULLABLE\"},{\"name\":\"school_nces_id\",\"type\":\"INTEGER\",\"mode\":\"NULLABLE\"},{\"name\":\"school_state_id\",\"type\":\"FLOAT\",\"mode\":\"NULLABLE\"},{\"name\":\"school\",\"type\":\"STRING\",\"mode\":\"NULLABLE\"},{\"name\":\"school_state_type\",\"type\":\"STRING\",\"mode\":\"NULLABLE\"},{\"name\":\"ccd_school_type\",\"type\":\"STRING\",\"mode\":\"NULLABLE\"},{\"name\":\"ccd_charter_school\",\"type\":\"BOOLEAN\",\"mode\":\"NULLABLE\"},{\"name\":\"ccd_school_lvl\",\"type\":\"STRING\",\"mode\":\"NULLABLE\"},{\"name\":\"ccd_school_low_grade\",\"type\":\"STRING\",\"mode\":\"NULLABLE\"},{\"name\":\"ccd_school_high_grade\",\"type\":\"STRING\",\"mode\":\"NULLABLE\"},{\"name\":\"year\",\"type\":\"INTEGER\",\"mode\":\"NULLABLE\"},{\"name\":\"term\",\"type\":\"STRING\",\"mode\":\"NULLABLE\"},{\"name\":\"grade\",\"type\":\"STRING\",\"mode\":\"NULLABLE\"},{\"name\":\"white\",\"type\":\"STRING\",\"mode\":\"NULLABLE\"},{\"name\":\"black\",\"type\":\"STRING\",\"mode\":\"NULLABLE\"},{\"name\":\"hispanic\",\"type\":\"STRING\",\"mode\":\"NULLABLE\"},{\"name\":\"native_american\",\"type\":\"STRING\",\"mode\":\"NULLABLE\"},{\"name\":\"native_american_alaskan_native\",\"type\":\"STRING\",\"mode\":\"NULLABLE\"},{\"name\":\"asian\",\"type\":\"STRING\",\"mode\":\"NULLABLE\"},{\"name\":\"native_hawaiian\",\"type\":\"STRING\",\"mode\":\"NULLABLE\"},{\"name\":\"asian_pacific_islander\",\"type\":\"STRING\",\"mode\":\"NULLABLE\"},{\"name\":\"native_hawaiian_pacific_islander\",\"type\":\"STRING\",\"mode\":\"NULLABLE\"},{\"name\":\"pacific_islander\",\"type\":\"STRING\",\"mode\":\"NULLABLE\"},{\"name\":\"multiracial\",\"type\":\"STRING\",\"mode\":\"NULLABLE\"},{\"name\":\"unknown_race\",\"type\":\"STRING\",\"mode\":\"NULLABLE\"},{\"name\":\"male\",\"type\":\"STRING\",\"mode\":\"NULLABLE\"},{\"name\":\"female\",\"type\":\"STRING\",\"mode\":\"NULLABLE\"},{\"name\":\"non_binary\",\"type\":\"STRING\",\"mode\":\"NULLABLE\"},{\"name\":\"unknown_gender\",\"type\":\"STRING\",\"mode\":\"NULLABLE\"},{\"name\":\"ell\",\"type\":\"STRING\",\"mode\":\"NULLABLE\"},{\"name\":\"ell_percent\",\"type\":\"STRING\",\"mode\":\"NULLABLE\"},{\"name\":\"homeless\",\"type\":\"STRING\",\"mode\":\"NULLABLE\"},{\"name\":\"homeless_percent\",\"type\":\"STRING\",\"mode\":\"NULLABLE\"},{\"name\":\"low_income\",\"type\":\"STRING\",\"mode\":\"NULLABLE\"},{\"name\":\"free_and_reduced\",\"type\":\"STRING\",\"mode\":\"NULLABLE\"},{\"name\":\"free_and_reduced_percent\",\"type\":\"STRING\",\"mode\":\"NULLABLE\"},{\"name\":\"disability\",\"type\":\"STRING\",\"mode\":\"NULLABLE\"},{\"name\":\"section_504\",\"type\":\"STRING\",\"mode\":\"NULLABLE\"},{\"name\":\"total\",\"type\":\"STRING\",\"mode\":\"NULLABLE\"}]\n"
     ]
    }
   ],
   "source": [
    "!bq show --schema=true $dataset_id.tx"
   ]
  },
  {
   "cell_type": "markdown",
   "metadata": {},
   "source": [
    "#### Note: STRING type for \"total\" column"
   ]
  },
  {
   "cell_type": "code",
   "execution_count": 23,
   "metadata": {},
   "outputs": [
    {
     "data": {
      "application/vnd.jupyter.widget-view+json": {
       "model_id": "ce5a64dc4fa94c05b449daf670d5d4ec",
       "version_major": 2,
       "version_minor": 0
      },
      "text/plain": [
       "Query is running:   0%|          |"
      ]
     },
     "metadata": {},
     "output_type": "display_data"
    },
    {
     "data": {
      "application/vnd.jupyter.widget-view+json": {
       "model_id": "ed581cba57b248f5a2cb36326cb66543",
       "version_major": 2,
       "version_minor": 0
      },
      "text/plain": [
       "Downloading:   0%|          |"
      ]
     },
     "metadata": {},
     "output_type": "display_data"
    },
    {
     "data": {
      "text/html": [
       "<div>\n",
       "<style scoped>\n",
       "    .dataframe tbody tr th:only-of-type {\n",
       "        vertical-align: middle;\n",
       "    }\n",
       "\n",
       "    .dataframe tbody tr th {\n",
       "        vertical-align: top;\n",
       "    }\n",
       "\n",
       "    .dataframe thead th {\n",
       "        text-align: right;\n",
       "    }\n",
       "</style>\n",
       "<table border=\"1\" class=\"dataframe\">\n",
       "  <thead>\n",
       "    <tr style=\"text-align: right;\">\n",
       "      <th></th>\n",
       "      <th>school</th>\n",
       "      <th>grade</th>\n",
       "      <th>year</th>\n",
       "      <th>total</th>\n",
       "    </tr>\n",
       "  </thead>\n",
       "  <tbody>\n",
       "    <tr>\n",
       "      <th>0</th>\n",
       "      <td>AKINS H S</td>\n",
       "      <td>grade_10</td>\n",
       "      <td>2020</td>\n",
       "      <td>2880</td>\n",
       "    </tr>\n",
       "    <tr>\n",
       "      <th>1</th>\n",
       "      <td>AKINS H S</td>\n",
       "      <td>grade_10</td>\n",
       "      <td>2021</td>\n",
       "      <td>2988</td>\n",
       "    </tr>\n",
       "    <tr>\n",
       "      <th>2</th>\n",
       "      <td>AKINS H S</td>\n",
       "      <td>grade_11</td>\n",
       "      <td>2020</td>\n",
       "      <td>2656</td>\n",
       "    </tr>\n",
       "    <tr>\n",
       "      <th>3</th>\n",
       "      <td>AKINS H S</td>\n",
       "      <td>grade_11</td>\n",
       "      <td>2021</td>\n",
       "      <td>2652</td>\n",
       "    </tr>\n",
       "    <tr>\n",
       "      <th>4</th>\n",
       "      <td>AKINS H S</td>\n",
       "      <td>grade_12</td>\n",
       "      <td>2020</td>\n",
       "      <td>2436</td>\n",
       "    </tr>\n",
       "    <tr>\n",
       "      <th>...</th>\n",
       "      <td>...</td>\n",
       "      <td>...</td>\n",
       "      <td>...</td>\n",
       "      <td>...</td>\n",
       "    </tr>\n",
       "    <tr>\n",
       "      <th>1734</th>\n",
       "      <td>ZILKER EL</td>\n",
       "      <td>grade_5</td>\n",
       "      <td>2021</td>\n",
       "      <td>276</td>\n",
       "    </tr>\n",
       "    <tr>\n",
       "      <th>1735</th>\n",
       "      <td>ZILKER EL</td>\n",
       "      <td>kindergarten</td>\n",
       "      <td>2020</td>\n",
       "      <td>308</td>\n",
       "    </tr>\n",
       "    <tr>\n",
       "      <th>1736</th>\n",
       "      <td>ZILKER EL</td>\n",
       "      <td>kindergarten</td>\n",
       "      <td>2021</td>\n",
       "      <td>252</td>\n",
       "    </tr>\n",
       "    <tr>\n",
       "      <th>1737</th>\n",
       "      <td>ZILKER EL</td>\n",
       "      <td>pre_kindergarten</td>\n",
       "      <td>2020</td>\n",
       "      <td>120</td>\n",
       "    </tr>\n",
       "    <tr>\n",
       "      <th>1738</th>\n",
       "      <td>ZILKER EL</td>\n",
       "      <td>pre_kindergarten</td>\n",
       "      <td>2021</td>\n",
       "      <td>52</td>\n",
       "    </tr>\n",
       "  </tbody>\n",
       "</table>\n",
       "<p>1739 rows × 4 columns</p>\n",
       "</div>"
      ],
      "text/plain": [
       "         school             grade  year  total\n",
       "0     AKINS H S          grade_10  2020   2880\n",
       "1     AKINS H S          grade_10  2021   2988\n",
       "2     AKINS H S          grade_11  2020   2656\n",
       "3     AKINS H S          grade_11  2021   2652\n",
       "4     AKINS H S          grade_12  2020   2436\n",
       "...         ...               ...   ...    ...\n",
       "1734  ZILKER EL           grade_5  2021    276\n",
       "1735  ZILKER EL      kindergarten  2020    308\n",
       "1736  ZILKER EL      kindergarten  2021    252\n",
       "1737  ZILKER EL  pre_kindergarten  2020    120\n",
       "1738  ZILKER EL  pre_kindergarten  2021     52\n",
       "\n",
       "[1739 rows x 4 columns]"
      ]
     },
     "execution_count": 23,
     "metadata": {},
     "output_type": "execute_result"
    }
   ],
   "source": [
    "%%bigquery\n",
    "select school, grade, year, sum(cast(replace(replace(total, \",\", \"\"), \"<\", \"\") as int64)) as total\n",
    "from school_enrollments.tx\n",
    "where total != \"\" and school != \"\" and district like '%AUSTIN%'\n",
    "group by school, grade, year\n",
    "order by school, grade, year"
   ]
  },
  {
   "cell_type": "markdown",
   "metadata": {},
   "source": [
    "##### Documentation on BQ's string functions: https://cloud.google.com/bigquery/docs/reference/standard-sql/string_functions"
   ]
  },
  {
   "cell_type": "code",
   "execution_count": 24,
   "metadata": {},
   "outputs": [
    {
     "name": "stdout",
     "output_type": "stream",
     "text": [
      "BigQuery error in mk operation: Dataset 'datamaxxing:views' already exists.\n"
     ]
    }
   ],
   "source": [
    "!bq --location=US mk --dataset \"views\""
   ]
  },
  {
   "cell_type": "code",
   "execution_count": 1,
   "metadata": {},
   "outputs": [
    {
     "name": "stdout",
     "output_type": "stream",
     "text": [
      "Executing query with job ID: 98e186bf-41e8-4c8b-8a67-61369a862edf\n",
      "Query executing: 0.59s"
     ]
    },
    {
     "name": "stderr",
     "output_type": "stream",
     "text": [
      "\n",
      "ERROR:\n",
      " 409 Already Exists: Table datamaxxing:views.austin_enrollments_by_school_grade_year; reason: duplicate, message: Already Exists: Table datamaxxing:views.austin_enrollments_by_school_grade_year\n",
      "\n",
      "Location: US\n",
      "Job ID: 98e186bf-41e8-4c8b-8a67-61369a862edf\n",
      "\n"
     ]
    }
   ],
   "source": [
    "%%bigquery\n",
    "create view views.austin_enrollments_by_school_grade_year as\n",
    "select school, grade, year, sum(cast(replace(replace(total, \",\", \"\"), \"<\", \"\") as int64)) as total\n",
    "from school_enrollments.tx\n",
    "where total != \"\" and school != \"\" and district like '%AUSTIN%'\n",
    "group by school, grade, year\n",
    "order by school, grade, year"
   ]
  },
  {
   "cell_type": "code",
   "execution_count": 26,
   "metadata": {},
   "outputs": [
    {
     "data": {
      "application/vnd.jupyter.widget-view+json": {
       "model_id": "83ceaca0207b4def8fe4677673e93dc2",
       "version_major": 2,
       "version_minor": 0
      },
      "text/plain": [
       "Query is running:   0%|          |"
      ]
     },
     "metadata": {},
     "output_type": "display_data"
    },
    {
     "data": {
      "application/vnd.jupyter.widget-view+json": {
       "model_id": "56f3c281621b4e7d956720e34324e595",
       "version_major": 2,
       "version_minor": 0
      },
      "text/plain": [
       "Downloading:   0%|          |"
      ]
     },
     "metadata": {},
     "output_type": "display_data"
    },
    {
     "data": {
      "text/html": [
       "<div>\n",
       "<style scoped>\n",
       "    .dataframe tbody tr th:only-of-type {\n",
       "        vertical-align: middle;\n",
       "    }\n",
       "\n",
       "    .dataframe tbody tr th {\n",
       "        vertical-align: top;\n",
       "    }\n",
       "\n",
       "    .dataframe thead th {\n",
       "        text-align: right;\n",
       "    }\n",
       "</style>\n",
       "<table border=\"1\" class=\"dataframe\">\n",
       "  <thead>\n",
       "    <tr style=\"text-align: right;\">\n",
       "      <th></th>\n",
       "      <th>school</th>\n",
       "      <th>grade</th>\n",
       "      <th>year</th>\n",
       "      <th>total</th>\n",
       "    </tr>\n",
       "  </thead>\n",
       "  <tbody>\n",
       "    <tr>\n",
       "      <th>0</th>\n",
       "      <td>AKINS H S</td>\n",
       "      <td>grade_10</td>\n",
       "      <td>2020</td>\n",
       "      <td>2880</td>\n",
       "    </tr>\n",
       "    <tr>\n",
       "      <th>1</th>\n",
       "      <td>AKINS H S</td>\n",
       "      <td>grade_10</td>\n",
       "      <td>2021</td>\n",
       "      <td>2988</td>\n",
       "    </tr>\n",
       "    <tr>\n",
       "      <th>2</th>\n",
       "      <td>AKINS H S</td>\n",
       "      <td>grade_11</td>\n",
       "      <td>2020</td>\n",
       "      <td>2656</td>\n",
       "    </tr>\n",
       "    <tr>\n",
       "      <th>3</th>\n",
       "      <td>AKINS H S</td>\n",
       "      <td>grade_11</td>\n",
       "      <td>2021</td>\n",
       "      <td>2652</td>\n",
       "    </tr>\n",
       "    <tr>\n",
       "      <th>4</th>\n",
       "      <td>AKINS H S</td>\n",
       "      <td>grade_12</td>\n",
       "      <td>2020</td>\n",
       "      <td>2436</td>\n",
       "    </tr>\n",
       "    <tr>\n",
       "      <th>...</th>\n",
       "      <td>...</td>\n",
       "      <td>...</td>\n",
       "      <td>...</td>\n",
       "      <td>...</td>\n",
       "    </tr>\n",
       "    <tr>\n",
       "      <th>1734</th>\n",
       "      <td>ZILKER EL</td>\n",
       "      <td>grade_5</td>\n",
       "      <td>2021</td>\n",
       "      <td>276</td>\n",
       "    </tr>\n",
       "    <tr>\n",
       "      <th>1735</th>\n",
       "      <td>ZILKER EL</td>\n",
       "      <td>kindergarten</td>\n",
       "      <td>2020</td>\n",
       "      <td>308</td>\n",
       "    </tr>\n",
       "    <tr>\n",
       "      <th>1736</th>\n",
       "      <td>ZILKER EL</td>\n",
       "      <td>kindergarten</td>\n",
       "      <td>2021</td>\n",
       "      <td>252</td>\n",
       "    </tr>\n",
       "    <tr>\n",
       "      <th>1737</th>\n",
       "      <td>ZILKER EL</td>\n",
       "      <td>pre_kindergarten</td>\n",
       "      <td>2020</td>\n",
       "      <td>120</td>\n",
       "    </tr>\n",
       "    <tr>\n",
       "      <th>1738</th>\n",
       "      <td>ZILKER EL</td>\n",
       "      <td>pre_kindergarten</td>\n",
       "      <td>2021</td>\n",
       "      <td>52</td>\n",
       "    </tr>\n",
       "  </tbody>\n",
       "</table>\n",
       "<p>1739 rows × 4 columns</p>\n",
       "</div>"
      ],
      "text/plain": [
       "         school             grade  year  total\n",
       "0     AKINS H S          grade_10  2020   2880\n",
       "1     AKINS H S          grade_10  2021   2988\n",
       "2     AKINS H S          grade_11  2020   2656\n",
       "3     AKINS H S          grade_11  2021   2652\n",
       "4     AKINS H S          grade_12  2020   2436\n",
       "...         ...               ...   ...    ...\n",
       "1734  ZILKER EL           grade_5  2021    276\n",
       "1735  ZILKER EL      kindergarten  2020    308\n",
       "1736  ZILKER EL      kindergarten  2021    252\n",
       "1737  ZILKER EL  pre_kindergarten  2020    120\n",
       "1738  ZILKER EL  pre_kindergarten  2021     52\n",
       "\n",
       "[1739 rows x 4 columns]"
      ]
     },
     "execution_count": 26,
     "metadata": {},
     "output_type": "execute_result"
    }
   ],
   "source": [
    "%%bigquery\n",
    "select * from views.austin_enrollments_by_school_grade_year"
   ]
  },
  {
   "cell_type": "markdown",
   "metadata": {},
   "source": [
    "#### 4. Open Data Studio and create a chart from this view:\n",
    "##### https://datastudio.google.com/"
   ]
  },
  {
   "cell_type": "code",
   "execution_count": 28,
   "metadata": {
    "tags": []
   },
   "outputs": [
    {
     "name": "stdout",
     "output_type": "stream",
     "text": [
      "Dataset 'datamaxxing:new_views' successfully created.\n"
     ]
    }
   ],
   "source": [
    "!bq mk --dataset $PROJECT_ID:new_views\n"
   ]
  },
  {
   "cell_type": "code",
   "execution_count": 36,
   "metadata": {
    "tags": []
   },
   "outputs": [
    {
     "name": "stdout",
     "output_type": "stream",
     "text": [
      "✅ Created view: total_enrollment_by_school\n",
      "✅ Created view: avg_enrollment_by_grade\n"
     ]
    }
   ],
   "source": [
    "from google.cloud import bigquery\n",
    "client = bigquery.Client()\n",
    "\n",
    "queries = {\n",
    "    \"total_enrollment_by_school\": \"\"\"\n",
    "        CREATE OR REPLACE VIEW `datamaxxing.new_views.total_enrollment_by_school` AS\n",
    "        SELECT school,\n",
    "               SUM(CAST(REPLACE(REPLACE(total, \",\", \"\"), \"<\", \"\") AS INT64)) AS total_enrollment\n",
    "        FROM `datamaxxing.school_enrollments.tx`\n",
    "        WHERE total != \"\" AND school != \"\"\n",
    "        GROUP BY school\n",
    "        ORDER BY total_enrollment DESC;\n",
    "    \"\"\",\n",
    "    \"avg_enrollment_by_grade\": \"\"\"\n",
    "        CREATE OR REPLACE VIEW `datamaxxing.new_views.avg_enrollment_by_grade` AS\n",
    "        SELECT grade,\n",
    "               ROUND(AVG(CAST(REPLACE(REPLACE(total, \",\", \"\"), \"<\", \"\") AS INT64))) AS avg_enrollment\n",
    "        FROM `datamaxxing.school_enrollments.tx`\n",
    "        WHERE total != \"\" AND grade != \"\"\n",
    "        GROUP BY grade\n",
    "        ORDER BY avg_enrollment DESC;\n",
    "    \"\"\"\n",
    "}\n",
    "\n",
    "for name, query in queries.items():\n",
    "    client.query(query)\n",
    "    print(f\"✅ Created view: {name}\")\n",
    "    \n"
   ]
  },
  {
   "cell_type": "code",
   "execution_count": 35,
   "metadata": {
    "tags": []
   },
   "outputs": [],
   "source": [
    "from google.cloud import bigquery\n",
    "\n",
    "dataset_ref = bigquery.DatasetReference(\"datamaxxing\", \"new_views\")\n",
    "\n",
    "for view in client.list_tables(dataset_ref):\n",
    "    print(view.table_id)\n"
   ]
  },
  {
   "cell_type": "markdown",
   "metadata": {},
   "source": [
    "#### Project 3 homework marker. Start homework from here. "
   ]
  },
  {
   "cell_type": "code",
   "execution_count": 2,
   "metadata": {
    "tags": []
   },
   "outputs": [
    {
     "data": {
      "application/vnd.jupyter.widget-view+json": {
       "model_id": "cf25e3181836459c9be19de20f058316",
       "version_major": 2,
       "version_minor": 0
      },
      "text/plain": [
       "Query is running:   0%|          |"
      ]
     },
     "metadata": {},
     "output_type": "display_data"
    },
    {
     "data": {
      "application/vnd.jupyter.widget-view+json": {
       "model_id": "10e484c3cac4402bbcc81f51a1e22504",
       "version_major": 2,
       "version_minor": 0
      },
      "text/plain": [
       "Downloading:   0%|          |"
      ]
     },
     "metadata": {},
     "output_type": "display_data"
    },
    {
     "data": {
      "text/html": [
       "<div>\n",
       "<style scoped>\n",
       "    .dataframe tbody tr th:only-of-type {\n",
       "        vertical-align: middle;\n",
       "    }\n",
       "\n",
       "    .dataframe tbody tr th {\n",
       "        vertical-align: top;\n",
       "    }\n",
       "\n",
       "    .dataframe thead th {\n",
       "        text-align: right;\n",
       "    }\n",
       "</style>\n",
       "<table border=\"1\" class=\"dataframe\">\n",
       "  <thead>\n",
       "    <tr style=\"text-align: right;\">\n",
       "      <th></th>\n",
       "      <th>school</th>\n",
       "      <th>total_enrollment</th>\n",
       "    </tr>\n",
       "  </thead>\n",
       "  <tbody>\n",
       "    <tr>\n",
       "      <th>0</th>\n",
       "      <td>MEMORIAL H S</td>\n",
       "      <td>76816</td>\n",
       "    </tr>\n",
       "    <tr>\n",
       "      <th>1</th>\n",
       "      <td>MACARTHUR H S</td>\n",
       "      <td>69160</td>\n",
       "    </tr>\n",
       "    <tr>\n",
       "      <th>2</th>\n",
       "      <td>TEXAS VIRTUAL ACADEMY AT HALLSVILL</td>\n",
       "      <td>67800</td>\n",
       "    </tr>\n",
       "    <tr>\n",
       "      <th>3</th>\n",
       "      <td>SMITH EL</td>\n",
       "      <td>62832</td>\n",
       "    </tr>\n",
       "    <tr>\n",
       "      <th>4</th>\n",
       "      <td>TEXAS CONNECTIONS ACADEMY AT HOUST</td>\n",
       "      <td>57268</td>\n",
       "    </tr>\n",
       "    <tr>\n",
       "      <th>...</th>\n",
       "      <td>...</td>\n",
       "      <td>...</td>\n",
       "    </tr>\n",
       "    <tr>\n",
       "      <th>8177</th>\n",
       "      <td>ELDER COOP ALTERNATIVE SCHOOL</td>\n",
       "      <td>40</td>\n",
       "    </tr>\n",
       "    <tr>\n",
       "      <th>8178</th>\n",
       "      <td>L C Y C</td>\n",
       "      <td>40</td>\n",
       "    </tr>\n",
       "    <tr>\n",
       "      <th>8179</th>\n",
       "      <td>HARDIN CO J J A E P</td>\n",
       "      <td>40</td>\n",
       "    </tr>\n",
       "    <tr>\n",
       "      <th>8180</th>\n",
       "      <td>HARRIS CO SCH FOR ACCELERATED LRN</td>\n",
       "      <td>40</td>\n",
       "    </tr>\n",
       "    <tr>\n",
       "      <th>8181</th>\n",
       "      <td>KEYS EL</td>\n",
       "      <td>40</td>\n",
       "    </tr>\n",
       "  </tbody>\n",
       "</table>\n",
       "<p>8182 rows × 2 columns</p>\n",
       "</div>"
      ],
      "text/plain": [
       "                                  school  total_enrollment\n",
       "0                           MEMORIAL H S             76816\n",
       "1                          MACARTHUR H S             69160\n",
       "2     TEXAS VIRTUAL ACADEMY AT HALLSVILL             67800\n",
       "3                               SMITH EL             62832\n",
       "4     TEXAS CONNECTIONS ACADEMY AT HOUST             57268\n",
       "...                                  ...               ...\n",
       "8177       ELDER COOP ALTERNATIVE SCHOOL                40\n",
       "8178                             L C Y C                40\n",
       "8179                 HARDIN CO J J A E P                40\n",
       "8180   HARRIS CO SCH FOR ACCELERATED LRN                40\n",
       "8181                             KEYS EL                40\n",
       "\n",
       "[8182 rows x 2 columns]"
      ]
     },
     "execution_count": 2,
     "metadata": {},
     "output_type": "execute_result"
    }
   ],
   "source": [
    "%%bigquery\n",
    "-- Query 1: Finds total enrollment per school across all years. \n",
    "\n",
    "SELECT \n",
    "  school,\n",
    "  SUM(CAST(REPLACE(REPLACE(total, \",\", \"\"), \"<\", \"\") AS INT64)) AS total_enrollment\n",
    "FROM `school_enrollments.tx`\n",
    "WHERE total != \"\" AND school != \"\"\n",
    "GROUP BY school\n",
    "ORDER BY total_enrollment DESC;"
   ]
  },
  {
   "cell_type": "code",
   "execution_count": 7,
   "metadata": {
    "tags": []
   },
   "outputs": [
    {
     "data": {
      "application/vnd.jupyter.widget-view+json": {
       "model_id": "60b68eda275446acaa71a881075f3e3d",
       "version_major": 2,
       "version_minor": 0
      },
      "text/plain": [
       "Query is running:   0%|          |"
      ]
     },
     "metadata": {},
     "output_type": "display_data"
    },
    {
     "data": {
      "application/vnd.jupyter.widget-view+json": {
       "model_id": "1cf0997f459243d69478abc0651ef664",
       "version_major": 2,
       "version_minor": 0
      },
      "text/plain": [
       "Downloading:   0%|          |"
      ]
     },
     "metadata": {},
     "output_type": "display_data"
    },
    {
     "data": {
      "text/html": [
       "<div>\n",
       "<style scoped>\n",
       "    .dataframe tbody tr th:only-of-type {\n",
       "        vertical-align: middle;\n",
       "    }\n",
       "\n",
       "    .dataframe tbody tr th {\n",
       "        vertical-align: top;\n",
       "    }\n",
       "\n",
       "    .dataframe thead th {\n",
       "        text-align: right;\n",
       "    }\n",
       "</style>\n",
       "<table border=\"1\" class=\"dataframe\">\n",
       "  <thead>\n",
       "    <tr style=\"text-align: right;\">\n",
       "      <th></th>\n",
       "      <th>grade</th>\n",
       "      <th>avg_enrollment</th>\n",
       "    </tr>\n",
       "  </thead>\n",
       "  <tbody>\n",
       "    <tr>\n",
       "      <th>0</th>\n",
       "      <td>grade_9</td>\n",
       "      <td>270.27</td>\n",
       "    </tr>\n",
       "    <tr>\n",
       "      <th>1</th>\n",
       "      <td>grade_10</td>\n",
       "      <td>252.66</td>\n",
       "    </tr>\n",
       "    <tr>\n",
       "      <th>2</th>\n",
       "      <td>grade_7</td>\n",
       "      <td>240.13</td>\n",
       "    </tr>\n",
       "    <tr>\n",
       "      <th>3</th>\n",
       "      <td>grade_11</td>\n",
       "      <td>238.46</td>\n",
       "    </tr>\n",
       "    <tr>\n",
       "      <th>4</th>\n",
       "      <td>grade_8</td>\n",
       "      <td>235.17</td>\n",
       "    </tr>\n",
       "    <tr>\n",
       "      <th>5</th>\n",
       "      <td>grade_12</td>\n",
       "      <td>230.40</td>\n",
       "    </tr>\n",
       "    <tr>\n",
       "      <th>6</th>\n",
       "      <td>grade_6</td>\n",
       "      <td>221.98</td>\n",
       "    </tr>\n",
       "    <tr>\n",
       "      <th>7</th>\n",
       "      <td>grade_5</td>\n",
       "      <td>146.57</td>\n",
       "    </tr>\n",
       "    <tr>\n",
       "      <th>8</th>\n",
       "      <td>grade_4</td>\n",
       "      <td>136.20</td>\n",
       "    </tr>\n",
       "    <tr>\n",
       "      <th>9</th>\n",
       "      <td>grade_3</td>\n",
       "      <td>133.65</td>\n",
       "    </tr>\n",
       "    <tr>\n",
       "      <th>10</th>\n",
       "      <td>grade_1</td>\n",
       "      <td>133.14</td>\n",
       "    </tr>\n",
       "    <tr>\n",
       "      <th>11</th>\n",
       "      <td>grade_2</td>\n",
       "      <td>132.59</td>\n",
       "    </tr>\n",
       "    <tr>\n",
       "      <th>12</th>\n",
       "      <td>kindergarten</td>\n",
       "      <td>130.34</td>\n",
       "    </tr>\n",
       "    <tr>\n",
       "      <th>13</th>\n",
       "      <td>pre_kindergarten</td>\n",
       "      <td>97.03</td>\n",
       "    </tr>\n",
       "    <tr>\n",
       "      <th>14</th>\n",
       "      <td>early_education</td>\n",
       "      <td>17.83</td>\n",
       "    </tr>\n",
       "  </tbody>\n",
       "</table>\n",
       "</div>"
      ],
      "text/plain": [
       "               grade  avg_enrollment\n",
       "0            grade_9          270.27\n",
       "1           grade_10          252.66\n",
       "2            grade_7          240.13\n",
       "3           grade_11          238.46\n",
       "4            grade_8          235.17\n",
       "5           grade_12          230.40\n",
       "6            grade_6          221.98\n",
       "7            grade_5          146.57\n",
       "8            grade_4          136.20\n",
       "9            grade_3          133.65\n",
       "10           grade_1          133.14\n",
       "11           grade_2          132.59\n",
       "12      kindergarten          130.34\n",
       "13  pre_kindergarten           97.03\n",
       "14   early_education           17.83"
      ]
     },
     "execution_count": 7,
     "metadata": {},
     "output_type": "execute_result"
    }
   ],
   "source": [
    "%%bigquery\n",
    "-- Query 2: Find the average enrollment for each grade level across all schools\n",
    "SELECT \n",
    "  grade,\n",
    "  ROUND(AVG(CAST(REPLACE(REPLACE(total, \",\", \"\"), \"<\", \"\") AS INT64)), 2) AS avg_enrollment\n",
    "FROM `school_enrollments.tx`\n",
    "WHERE total != \"\" AND grade != \"\"\n",
    "GROUP BY grade\n",
    "ORDER BY avg_enrollment DESC;"
   ]
  },
  {
   "cell_type": "code",
   "execution_count": 8,
   "metadata": {
    "tags": []
   },
   "outputs": [
    {
     "data": {
      "application/vnd.jupyter.widget-view+json": {
       "model_id": "267a697e70d543d2a27a1e9a2f832473",
       "version_major": 2,
       "version_minor": 0
      },
      "text/plain": [
       "Query is running:   0%|          |"
      ]
     },
     "metadata": {},
     "output_type": "display_data"
    },
    {
     "data": {
      "application/vnd.jupyter.widget-view+json": {
       "model_id": "25cc60f241d54b6d925a4ac902516c2a",
       "version_major": 2,
       "version_minor": 0
      },
      "text/plain": [
       "Downloading:   0%|          |"
      ]
     },
     "metadata": {},
     "output_type": "display_data"
    },
    {
     "data": {
      "text/html": [
       "<div>\n",
       "<style scoped>\n",
       "    .dataframe tbody tr th:only-of-type {\n",
       "        vertical-align: middle;\n",
       "    }\n",
       "\n",
       "    .dataframe tbody tr th {\n",
       "        vertical-align: top;\n",
       "    }\n",
       "\n",
       "    .dataframe thead th {\n",
       "        text-align: right;\n",
       "    }\n",
       "</style>\n",
       "<table border=\"1\" class=\"dataframe\">\n",
       "  <thead>\n",
       "    <tr style=\"text-align: right;\">\n",
       "      <th></th>\n",
       "      <th>school</th>\n",
       "      <th>year</th>\n",
       "      <th>avg_enrollment</th>\n",
       "    </tr>\n",
       "  </thead>\n",
       "  <tbody>\n",
       "    <tr>\n",
       "      <th>0</th>\n",
       "      <td>LOWERY FRESHMAN CENTER</td>\n",
       "      <td>2020</td>\n",
       "      <td>1815.000000</td>\n",
       "    </tr>\n",
       "    <tr>\n",
       "      <th>1</th>\n",
       "      <td>LOWERY FRESHMAN CENTER</td>\n",
       "      <td>2021</td>\n",
       "      <td>1799.000000</td>\n",
       "    </tr>\n",
       "    <tr>\n",
       "      <th>2</th>\n",
       "      <td>PLANO WEST SENIOR H S</td>\n",
       "      <td>2021</td>\n",
       "      <td>1358.500000</td>\n",
       "    </tr>\n",
       "    <tr>\n",
       "      <th>3</th>\n",
       "      <td>PLANO WEST SENIOR H S</td>\n",
       "      <td>2020</td>\n",
       "      <td>1347.500000</td>\n",
       "    </tr>\n",
       "    <tr>\n",
       "      <th>4</th>\n",
       "      <td>ALLEN H S</td>\n",
       "      <td>2021</td>\n",
       "      <td>1332.000000</td>\n",
       "    </tr>\n",
       "    <tr>\n",
       "      <th>...</th>\n",
       "      <td>...</td>\n",
       "      <td>...</td>\n",
       "      <td>...</td>\n",
       "    </tr>\n",
       "    <tr>\n",
       "      <th>768</th>\n",
       "      <td>BURLESON CENTENNIAL H S</td>\n",
       "      <td>2021</td>\n",
       "      <td>500.750000</td>\n",
       "    </tr>\n",
       "    <tr>\n",
       "      <th>769</th>\n",
       "      <td>WESLACO EAST H S</td>\n",
       "      <td>2021</td>\n",
       "      <td>500.500000</td>\n",
       "    </tr>\n",
       "    <tr>\n",
       "      <th>770</th>\n",
       "      <td>JACKSON TECHNOLOGY CENTER</td>\n",
       "      <td>2020</td>\n",
       "      <td>500.333333</td>\n",
       "    </tr>\n",
       "    <tr>\n",
       "      <th>771</th>\n",
       "      <td>SAGINAW H S</td>\n",
       "      <td>2021</td>\n",
       "      <td>500.250000</td>\n",
       "    </tr>\n",
       "    <tr>\n",
       "      <th>772</th>\n",
       "      <td>MARSHALL H S</td>\n",
       "      <td>2021</td>\n",
       "      <td>500.250000</td>\n",
       "    </tr>\n",
       "  </tbody>\n",
       "</table>\n",
       "<p>773 rows × 3 columns</p>\n",
       "</div>"
      ],
      "text/plain": [
       "                        school  year  avg_enrollment\n",
       "0       LOWERY FRESHMAN CENTER  2020     1815.000000\n",
       "1       LOWERY FRESHMAN CENTER  2021     1799.000000\n",
       "2        PLANO WEST SENIOR H S  2021     1358.500000\n",
       "3        PLANO WEST SENIOR H S  2020     1347.500000\n",
       "4                    ALLEN H S  2021     1332.000000\n",
       "..                         ...   ...             ...\n",
       "768    BURLESON CENTENNIAL H S  2021      500.750000\n",
       "769           WESLACO EAST H S  2021      500.500000\n",
       "770  JACKSON TECHNOLOGY CENTER  2020      500.333333\n",
       "771                SAGINAW H S  2021      500.250000\n",
       "772               MARSHALL H S  2021      500.250000\n",
       "\n",
       "[773 rows x 3 columns]"
      ]
     },
     "execution_count": 8,
     "metadata": {},
     "output_type": "execute_result"
    }
   ],
   "source": [
    "%%bigquery\n",
    "-- Query 3: Find schools with average yearly enrollment greater than 500\n",
    "SELECT \n",
    "  school,\n",
    "  year,\n",
    "  AVG(CAST(REPLACE(REPLACE(total, \",\", \"\"), \"<\", \"\") AS INT64)) AS avg_enrollment\n",
    "FROM `school_enrollments.tx`\n",
    "WHERE total != \"\" AND school != \"\"\n",
    "GROUP BY school, year\n",
    "HAVING AVG(CAST(REPLACE(REPLACE(total, \",\", \"\"), \"<\", \"\") AS INT64)) > 500\n",
    "ORDER BY avg_enrollment DESC;"
   ]
  },
  {
   "cell_type": "code",
   "execution_count": 9,
   "metadata": {
    "tags": []
   },
   "outputs": [
    {
     "data": {
      "application/vnd.jupyter.widget-view+json": {
       "model_id": "dd6a3453fd6e4db48411f216b6ffe8e7",
       "version_major": 2,
       "version_minor": 0
      },
      "text/plain": [
       "Query is running:   0%|          |"
      ]
     },
     "metadata": {},
     "output_type": "display_data"
    },
    {
     "data": {
      "application/vnd.jupyter.widget-view+json": {
       "model_id": "0ba8ab64a7614ce082b07ee663870abf",
       "version_major": 2,
       "version_minor": 0
      },
      "text/plain": [
       "Downloading:   0%|          |"
      ]
     },
     "metadata": {},
     "output_type": "display_data"
    },
    {
     "data": {
      "text/html": [
       "<div>\n",
       "<style scoped>\n",
       "    .dataframe tbody tr th:only-of-type {\n",
       "        vertical-align: middle;\n",
       "    }\n",
       "\n",
       "    .dataframe tbody tr th {\n",
       "        vertical-align: top;\n",
       "    }\n",
       "\n",
       "    .dataframe thead th {\n",
       "        text-align: right;\n",
       "    }\n",
       "</style>\n",
       "<table border=\"1\" class=\"dataframe\">\n",
       "  <thead>\n",
       "    <tr style=\"text-align: right;\">\n",
       "      <th></th>\n",
       "      <th>school</th>\n",
       "      <th>total_2021</th>\n",
       "    </tr>\n",
       "  </thead>\n",
       "  <tbody>\n",
       "    <tr>\n",
       "      <th>0</th>\n",
       "      <td>L C Y C</td>\n",
       "      <td>50</td>\n",
       "    </tr>\n",
       "    <tr>\n",
       "      <th>1</th>\n",
       "      <td>SLATON ISD DAEP</td>\n",
       "      <td>50</td>\n",
       "    </tr>\n",
       "    <tr>\n",
       "      <th>2</th>\n",
       "      <td>PARKVIEW SCHOOL - LUBBOCK</td>\n",
       "      <td>50</td>\n",
       "    </tr>\n",
       "    <tr>\n",
       "      <th>3</th>\n",
       "      <td>SANTA MARIA DAEP</td>\n",
       "      <td>50</td>\n",
       "    </tr>\n",
       "    <tr>\n",
       "      <th>4</th>\n",
       "      <td>JJA</td>\n",
       "      <td>50</td>\n",
       "    </tr>\n",
       "    <tr>\n",
       "      <th>...</th>\n",
       "      <td>...</td>\n",
       "      <td>...</td>\n",
       "    </tr>\n",
       "    <tr>\n",
       "      <th>404</th>\n",
       "      <td>JUDSON LEARNING ACAD</td>\n",
       "      <td>385</td>\n",
       "    </tr>\n",
       "    <tr>\n",
       "      <th>405</th>\n",
       "      <td>PLATO ACADEMY</td>\n",
       "      <td>390</td>\n",
       "    </tr>\n",
       "    <tr>\n",
       "      <th>406</th>\n",
       "      <td>SAN PERLITA H S</td>\n",
       "      <td>395</td>\n",
       "    </tr>\n",
       "    <tr>\n",
       "      <th>407</th>\n",
       "      <td>PREMIER H S OF DAYTON</td>\n",
       "      <td>395</td>\n",
       "    </tr>\n",
       "    <tr>\n",
       "      <th>408</th>\n",
       "      <td>IDEA HIDDEN MEADOW COLLEGE PREPARA</td>\n",
       "      <td>395</td>\n",
       "    </tr>\n",
       "  </tbody>\n",
       "</table>\n",
       "<p>409 rows × 2 columns</p>\n",
       "</div>"
      ],
      "text/plain": [
       "                                 school  total_2021\n",
       "0                               L C Y C          50\n",
       "1                       SLATON ISD DAEP          50\n",
       "2             PARKVIEW SCHOOL - LUBBOCK          50\n",
       "3                      SANTA MARIA DAEP          50\n",
       "4                                   JJA          50\n",
       "..                                  ...         ...\n",
       "404                JUDSON LEARNING ACAD         385\n",
       "405                       PLATO ACADEMY         390\n",
       "406                     SAN PERLITA H S         395\n",
       "407               PREMIER H S OF DAYTON         395\n",
       "408  IDEA HIDDEN MEADOW COLLEGE PREPARA         395\n",
       "\n",
       "[409 rows x 2 columns]"
      ]
     },
     "execution_count": 9,
     "metadata": {},
     "output_type": "execute_result"
    }
   ],
   "source": [
    "%%bigquery\n",
    "-- Query 4: Find schools with total enrollment below 400 in 2021\n",
    "SELECT \n",
    "  school,\n",
    "  SUM(CAST(REPLACE(REPLACE(total, \",\", \"\"), \"<\", \"\") AS INT64)) AS total_2021\n",
    "FROM `school_enrollments.tx`\n",
    "WHERE \n",
    "  year = 2021\n",
    "  AND total != \"\" \n",
    "  AND school != \"\"\n",
    "GROUP BY school\n",
    "HAVING SUM(CAST(REPLACE(REPLACE(total, \",\", \"\"), \"<\", \"\") AS INT64)) < 400\n",
    "ORDER BY total_2021;"
   ]
  },
  {
   "cell_type": "code",
   "execution_count": 10,
   "metadata": {
    "tags": []
   },
   "outputs": [
    {
     "data": {
      "application/vnd.jupyter.widget-view+json": {
       "model_id": "c44f9946d96a4586821ddee87517ec53",
       "version_major": 2,
       "version_minor": 0
      },
      "text/plain": [
       "Query is running:   0%|          |"
      ]
     },
     "metadata": {},
     "output_type": "display_data"
    },
    {
     "data": {
      "application/vnd.jupyter.widget-view+json": {
       "model_id": "43539850005342ddb40f2fe3d0b47abf",
       "version_major": 2,
       "version_minor": 0
      },
      "text/plain": [
       "Downloading:   0%|          |"
      ]
     },
     "metadata": {},
     "output_type": "display_data"
    },
    {
     "data": {
      "text/html": [
       "<div>\n",
       "<style scoped>\n",
       "    .dataframe tbody tr th:only-of-type {\n",
       "        vertical-align: middle;\n",
       "    }\n",
       "\n",
       "    .dataframe tbody tr th {\n",
       "        vertical-align: top;\n",
       "    }\n",
       "\n",
       "    .dataframe thead th {\n",
       "        text-align: right;\n",
       "    }\n",
       "</style>\n",
       "<table border=\"1\" class=\"dataframe\">\n",
       "  <thead>\n",
       "    <tr style=\"text-align: right;\">\n",
       "      <th></th>\n",
       "      <th>year_label</th>\n",
       "      <th>total_enrollment</th>\n",
       "    </tr>\n",
       "  </thead>\n",
       "  <tbody>\n",
       "    <tr>\n",
       "      <th>0</th>\n",
       "      <td>2020</td>\n",
       "      <td>55188900</td>\n",
       "    </tr>\n",
       "    <tr>\n",
       "      <th>1</th>\n",
       "      <td>2021</td>\n",
       "      <td>53982610</td>\n",
       "    </tr>\n",
       "  </tbody>\n",
       "</table>\n",
       "</div>"
      ],
      "text/plain": [
       "  year_label  total_enrollment\n",
       "0       2020          55188900\n",
       "1       2021          53982610"
      ]
     },
     "execution_count": 10,
     "metadata": {},
     "output_type": "execute_result"
    }
   ],
   "source": [
    "%%bigquery\n",
    "-- Query 5: Compare total enrollment between 2020 and 2021 \n",
    "SELECT\n",
    "  '2020' AS year_label,\n",
    "  SUM(CAST(REPLACE(REPLACE(total, \",\", \"\"), \"<\", \"\") AS INT64)) AS total_enrollment\n",
    "FROM `school_enrollments.tx`\n",
    "WHERE year = 2020 AND total != \"\"\n",
    "UNION ALL\n",
    "SELECT \n",
    "  '2021' AS year_label,\n",
    "  SUM(CAST(REPLACE(REPLACE(total, \",\", \"\"), \"<\", \"\") AS INT64)) AS total_enrollment\n",
    "FROM `school_enrollments.tx`\n",
    "WHERE year = 2021 AND total != \"\"\n",
    "ORDER BY year_label;"
   ]
  },
  {
   "cell_type": "code",
   "execution_count": null,
   "metadata": {
    "tags": []
   },
   "outputs": [
    {
     "data": {
      "application/vnd.jupyter.widget-view+json": {
       "model_id": "69d753da70084483b43315c00aa2bf7e",
       "version_major": 2,
       "version_minor": 0
      },
      "text/plain": [
       "Query is running:   0%|          |"
      ]
     },
     "metadata": {},
     "output_type": "display_data"
    },
    {
     "data": {
      "application/vnd.jupyter.widget-view+json": {
       "model_id": "eaacd482474842da9fb9715a151f9643",
       "version_major": 2,
       "version_minor": 0
      },
      "text/plain": [
       "Downloading:   0%|          |"
      ]
     },
     "metadata": {},
     "output_type": "display_data"
    }
   ],
   "source": [
    "%%bigquery\n",
    "-- Query 6: Find grades with average enrollment above 100 students in any year\n",
    "SELECT \n",
    "  year,\n",
    "  grade,\n",
    "  AVG(CAST(REPLACE(REPLACE(total, \",\", \"\"), \"<\", \"\") AS INT64)) AS avg_enrollment\n",
    "FROM `school_enrollments.tx`\n",
    "WHERE total != \"\"\n",
    "GROUP BY year, grade\n",
    "HAVING AVG(CAST(REPLACE(REPLACE(total, \",\", \"\"), \"<\", \"\") AS INT64)) > 100\n",
    "ORDER BY year, avg_enrollment DESC;"
   ]
  },
  {
   "cell_type": "code",
   "execution_count": null,
   "metadata": {
    "tags": []
   },
   "outputs": [],
   "source": [
    "%%bigquery\n",
    "-- Query 7: Top 5 schools with highest average enrollment in 2021\n",
    "SELECT \n",
    "  school,\n",
    "  ROUND(AVG(CAST(REPLACE(REPLACE(total, \",\", \"\"), \"<\", \"\") AS INT64)), 2) AS avg_enrollment_2021\n",
    "FROM `school_enrollments.tx`\n",
    "WHERE \n",
    "  year = 2021\n",
    "  AND total != \"\"\n",
    "  AND school != \"\"\n",
    "GROUP BY school\n",
    "ORDER BY avg_enrollment_2021 DESC\n",
    "LIMIT 5;"
   ]
  },
  {
   "cell_type": "code",
   "execution_count": null,
   "metadata": {
    "tags": []
   },
   "outputs": [],
   "source": [
    "%%bigquery\n",
    "-- Query 8: Combine elementary and high school enrollment summaries\n",
    "SELECT \n",
    "  school,\n",
    "  'Elementary' AS school_level,\n",
    "  SUM(CAST(REPLACE(REPLACE(total, \",\", \"\"), \"<\", \"\") AS INT64)) AS total_enrollment\n",
    "FROM `school_enrollments.tx`\n",
    "WHERE \n",
    "  grade IN ('pre_kindergarten', 'kindergarten', 'grade_1', 'grade_2', 'grade_3', 'grade_4', 'grade_5')\n",
    "  AND total != \"\"\n",
    "GROUP BY school\n",
    "\n",
    "UNION DISTINCT\n",
    "\n",
    "SELECT \n",
    "  school,\n",
    "  'High School' AS school_level,\n",
    "  SUM(CAST(REPLACE(REPLACE(total, \",\", \"\"), \"<\", \"\") AS INT64)) AS total_enrollment\n",
    "FROM `school_enrollments.tx`\n",
    "WHERE \n",
    "  (grade LIKE 'grade_1%' OR grade = 'grade_12')\n",
    "  AND total != \"\"\n",
    "GROUP BY school\n",
    "ORDER BY total_enrollment DESC;"
   ]
  }
 ],
 "metadata": {
  "environment": {
   "kernel": "conda-base-py",
   "name": "workbench-notebooks.m133",
   "type": "gcloud",
   "uri": "us-docker.pkg.dev/deeplearning-platform-release/gcr.io/workbench-notebooks:m133"
  },
  "kernelspec": {
   "display_name": "Python 3 (ipykernel) (Local)",
   "language": "python",
   "name": "conda-base-py"
  },
  "language_info": {
   "codemirror_mode": {
    "name": "ipython",
    "version": 3
   },
   "file_extension": ".py",
   "mimetype": "text/x-python",
   "name": "python",
   "nbconvert_exporter": "python",
   "pygments_lexer": "ipython3",
   "version": "3.10.18"
  }
 },
 "nbformat": 4,
 "nbformat_minor": 4
}

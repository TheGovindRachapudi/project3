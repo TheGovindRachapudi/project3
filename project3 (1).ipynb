{
 "cells": [
  {
   "cell_type": "markdown",
   "metadata": {},
   "source": [
    "### Starter code for Project 3. \n",
    "#### Run these cells before starting the assignment. "
   ]
  },
  {
   "cell_type": "markdown",
   "metadata": {},
   "source": [
    "#### 1. create BQ dataset:"
   ]
  },
  {
   "cell_type": "code",
   "execution_count": 1,
   "metadata": {
    "tags": []
   },
   "outputs": [
    {
     "name": "stdout",
     "output_type": "stream",
     "text": [
      "env: dataset_id=school_enrollments\n"
     ]
    }
   ],
   "source": [
    "%env dataset_id=school_enrollments"
   ]
  },
  {
   "cell_type": "code",
   "execution_count": 2,
   "metadata": {
    "tags": []
   },
   "outputs": [
    {
     "name": "stdout",
     "output_type": "stream",
     "text": [
      "BigQuery error in mk operation: Dataset 'datamaxxing:school_enrollments' already\n",
      "exists.\n"
     ]
    }
   ],
   "source": [
    "!bq --location=US mk --dataset $dataset_id"
   ]
  },
  {
   "cell_type": "markdown",
   "metadata": {},
   "source": [
    "#### 2. create and populate BQ tables:"
   ]
  },
  {
   "cell_type": "code",
   "execution_count": 3,
   "metadata": {
    "tags": []
   },
   "outputs": [],
   "source": [
    "import os"
   ]
  },
  {
   "cell_type": "code",
   "execution_count": 21,
   "metadata": {
    "tags": []
   },
   "outputs": [
    {
     "name": "stdout",
     "output_type": "stream",
     "text": [
      "bq --location=US load --autodetect --skip_leading_rows=1 --source_format=CSV school_enrollments.ak gs://cs327e-open-access-2/school-enrollments/zf406jp4427_ak.csv\n",
      "\n"
     ]
    },
    {
     "name": "stderr",
     "output_type": "stream",
     "text": [
      "Waiting on bqjob_r3d5130c01f5bbe90_0000019a239f867e_1 ... (3s) Current status: DONE   \n"
     ]
    },
    {
     "name": "stdout",
     "output_type": "stream",
     "text": [
      "bq --location=US load --autodetect --skip_leading_rows=1 --source_format=CSV school_enrollments.ar gs://cs327e-open-access-2/school-enrollments/zf406jp4427_ar.csv\n",
      "\n"
     ]
    },
    {
     "name": "stderr",
     "output_type": "stream",
     "text": [
      "Waiting on bqjob_r589ae33c160c9414_0000019a239fa42e_1 ... (3s) Current status: DONE   \n"
     ]
    },
    {
     "name": "stdout",
     "output_type": "stream",
     "text": [
      "bq --location=US load --autodetect --skip_leading_rows=1 --source_format=CSV school_enrollments.ca gs://cs327e-open-access-2/school-enrollments/zf406jp4427_ca.csv\n",
      "\n"
     ]
    },
    {
     "name": "stderr",
     "output_type": "stream",
     "text": [
      "Waiting on bqjob_r7b4ae0aceb02dc26_0000019a239fc17f_1 ... (8s) Current status: DONE   \n"
     ]
    },
    {
     "name": "stdout",
     "output_type": "stream",
     "text": [
      "skipping co\n",
      "bq --location=US load --autodetect --skip_leading_rows=1 --source_format=CSV school_enrollments.ct gs://cs327e-open-access-2/school-enrollments/zf406jp4427_ct.csv\n",
      "\n"
     ]
    },
    {
     "name": "stderr",
     "output_type": "stream",
     "text": [
      "Waiting on bqjob_r7443d0b5fdd4df4_0000019a239ff0eb_1 ... (2s) Current status: DONE   \n"
     ]
    },
    {
     "name": "stdout",
     "output_type": "stream",
     "text": [
      "skipping district\n",
      "skipping fl\n",
      "skipping ga\n",
      "bq --location=US load --autodetect --skip_leading_rows=1 --source_format=CSV school_enrollments.hi gs://cs327e-open-access-2/school-enrollments/zf406jp4427_hi.csv\n",
      "\n"
     ]
    },
    {
     "name": "stderr",
     "output_type": "stream",
     "text": [
      "Waiting on bqjob_r335c04a09617c6d2_0000019a23a00970_1 ... (1s) Current status: DONE   \n"
     ]
    },
    {
     "name": "stdout",
     "output_type": "stream",
     "text": [
      "skipping id\n",
      "bq --location=US load --autodetect --skip_leading_rows=1 --source_format=CSV school_enrollments.la gs://cs327e-open-access-2/school-enrollments/zf406jp4427_la.csv\n",
      "\n"
     ]
    },
    {
     "name": "stderr",
     "output_type": "stream",
     "text": [
      "Waiting on bqjob_r27366216e7e20ee2_0000019a23a01d7c_1 ... (2s) Current status: DONE   \n"
     ]
    },
    {
     "name": "stdout",
     "output_type": "stream",
     "text": [
      "skipping ma\n",
      "bq --location=US load --autodetect --skip_leading_rows=1 --source_format=CSV school_enrollments.md gs://cs327e-open-access-2/school-enrollments/zf406jp4427_md.csv\n",
      "\n"
     ]
    },
    {
     "name": "stderr",
     "output_type": "stream",
     "text": [
      "Waiting on bqjob_r76272007472a6c1c_0000019a23a03674_1 ... (1s) Current status: DONE   \n"
     ]
    },
    {
     "name": "stdout",
     "output_type": "stream",
     "text": [
      "bq --location=US load --autodetect --skip_leading_rows=1 --source_format=CSV school_enrollments.mn gs://cs327e-open-access-2/school-enrollments/zf406jp4427_mn.csv\n",
      "\n"
     ]
    },
    {
     "name": "stderr",
     "output_type": "stream",
     "text": [
      "Waiting on bqjob_r6f249c8ac1b89477_0000019a23a04f11_1 ... (3s) Current status: DONE   \n"
     ]
    },
    {
     "name": "stdout",
     "output_type": "stream",
     "text": [
      "skipping mo\n",
      "bq --location=US load --autodetect --skip_leading_rows=1 --source_format=CSV school_enrollments.ms gs://cs327e-open-access-2/school-enrollments/zf406jp4427_ms.csv\n",
      "\n"
     ]
    },
    {
     "name": "stderr",
     "output_type": "stream",
     "text": [
      "Waiting on bqjob_r35500c8c08e67691_0000019a23a06e23_1 ... (1s) Current status: DONE   \n"
     ]
    },
    {
     "name": "stdout",
     "output_type": "stream",
     "text": [
      "skipping ne\n",
      "bq --location=US load --autodetect --skip_leading_rows=1 --source_format=CSV school_enrollments.nh gs://cs327e-open-access-2/school-enrollments/zf406jp4427_nh.csv\n",
      "\n"
     ]
    },
    {
     "name": "stderr",
     "output_type": "stream",
     "text": [
      "Waiting on bqjob_r1817d449c18c77c1_0000019a23a0826d_1 ... (1s) Current status: DONE   \n"
     ]
    },
    {
     "name": "stdout",
     "output_type": "stream",
     "text": [
      "bq --location=US load --autodetect --skip_leading_rows=1 --source_format=CSV school_enrollments.nv gs://cs327e-open-access-2/school-enrollments/zf406jp4427_nv.csv\n",
      "\n"
     ]
    },
    {
     "name": "stderr",
     "output_type": "stream",
     "text": [
      "Waiting on bqjob_r131271a43bbcc915_0000019a23a0969b_1 ... (1s) Current status: DONE   \n"
     ]
    },
    {
     "name": "stdout",
     "output_type": "stream",
     "text": [
      "skipping ny\n",
      "bq --location=US load --autodetect --skip_leading_rows=1 --source_format=CSV school_enrollments.ok gs://cs327e-open-access-2/school-enrollments/zf406jp4427_ok.csv\n",
      "\n"
     ]
    },
    {
     "name": "stderr",
     "output_type": "stream",
     "text": [
      "Waiting on bqjob_r3eba463c824b62a0_0000019a23a0aab2_1 ... (2s) Current status: DONE   \n"
     ]
    },
    {
     "name": "stdout",
     "output_type": "stream",
     "text": [
      "skipping or\n",
      "bq --location=US load --autodetect --skip_leading_rows=1 --source_format=CSV school_enrollments.pa gs://cs327e-open-access-2/school-enrollments/zf406jp4427_pa.csv\n",
      "\n"
     ]
    },
    {
     "name": "stderr",
     "output_type": "stream",
     "text": [
      "Waiting on bqjob_r5dbfca26c68c4001_0000019a23a0c37a_1 ... (3s) Current status: DONE   \n"
     ]
    },
    {
     "name": "stdout",
     "output_type": "stream",
     "text": [
      "bq --location=US load --autodetect --skip_leading_rows=1 --source_format=CSV school_enrollments.sc gs://cs327e-open-access-2/school-enrollments/zf406jp4427_sc.csv\n",
      "\n"
     ]
    },
    {
     "name": "stderr",
     "output_type": "stream",
     "text": [
      "Waiting on bqjob_r17f6c9ab4a2b8992_0000019a23a0e18f_1 ... (2s) Current status: DONE   \n"
     ]
    },
    {
     "name": "stdout",
     "output_type": "stream",
     "text": [
      "skipping school\n",
      "skipping sd\n",
      "bq --location=US load --autodetect --skip_leading_rows=1 --source_format=CSV school_enrollments.tx gs://cs327e-open-access-2/school-enrollments/zf406jp4427_tx.csv\n",
      "\n"
     ]
    },
    {
     "name": "stderr",
     "output_type": "stream",
     "text": [
      "Waiting on bqjob_r13e3900ce9944524_0000019a23a0f9d1_1 ... (2s) Current status: DONE   \n"
     ]
    },
    {
     "name": "stdout",
     "output_type": "stream",
     "text": [
      "bq --location=US load --autodetect --skip_leading_rows=1 --source_format=CSV school_enrollments.wa gs://cs327e-open-access-2/school-enrollments/zf406jp4427_wa.csv\n",
      "\n"
     ]
    },
    {
     "name": "stderr",
     "output_type": "stream",
     "text": [
      "Waiting on bqjob_r5a4e3e875c89214e_0000019a23a11235_1 ... (3s) Current status: DONE   \n"
     ]
    },
    {
     "name": "stdout",
     "output_type": "stream",
     "text": [
      "skipping wi\n",
      "bq --location=US load --autodetect --skip_leading_rows=1 --source_format=CSV school_enrollments.wy gs://cs327e-open-access-2/school-enrollments/zf406jp4427_wy.csv\n",
      "\n"
     ]
    },
    {
     "name": "stderr",
     "output_type": "stream",
     "text": [
      "Waiting on bqjob_r3344c8397857756a_0000019a23a12f97_1 ... (1s) Current status: DONE   \n"
     ]
    }
   ],
   "source": [
    "gsutil_cmd = \"gsutil ls gs://cs327e-open-access-2/school-enrollments/*\"\n",
    "\n",
    "file_listings = os.popen(gsutil_cmd)\n",
    "dataset=\"school_enrollments\"\n",
    "\n",
    "for file in file_listings:\n",
    "\n",
    "    start_index = file.rindex(\"_\") + 1\n",
    "    end_index = file.rindex(\".\")\n",
    "    table = file[start_index:end_index]\n",
    "    \n",
    "    if table in (\"co\", \"district\", \"fl\", \"ga\", \"id\", \"ma\", \"mo\", \"ne\", \"ny\", \"or\", \"school\", \"sd\", \"wi\"):\n",
    "        print(\"skipping \" + table)\n",
    "        continue\n",
    "\n",
    "    bq_cmd = \"bq --location=US load --autodetect --skip_leading_rows=1 \"\\\n",
    "             \"--source_format=CSV \" + dataset + \".\" + table + ' ' + file\n",
    "    print(bq_cmd)\n",
    "    \n",
    "    os.system(bq_cmd)"
   ]
  },
  {
   "cell_type": "markdown",
   "metadata": {},
   "source": [
    "#### 3. Find school enrollments by school name, grade level, and year for Texas "
   ]
  },
  {
   "cell_type": "code",
   "execution_count": 22,
   "metadata": {},
   "outputs": [
    {
     "name": "stdout",
     "output_type": "stream",
     "text": [
      "[{\"name\":\"state\",\"type\":\"STRING\",\"mode\":\"NULLABLE\"},{\"name\":\"county\",\"type\":\"STRING\",\"mode\":\"NULLABLE\"},{\"name\":\"county_state_id\",\"type\":\"STRING\",\"mode\":\"NULLABLE\"},{\"name\":\"admin_level\",\"type\":\"STRING\",\"mode\":\"NULLABLE\"},{\"name\":\"district_nces_id\",\"type\":\"INTEGER\",\"mode\":\"NULLABLE\"},{\"name\":\"district_state_id\",\"type\":\"INTEGER\",\"mode\":\"NULLABLE\"},{\"name\":\"district_state_type\",\"type\":\"STRING\",\"mode\":\"NULLABLE\"},{\"name\":\"district\",\"type\":\"STRING\",\"mode\":\"NULLABLE\"},{\"name\":\"ccd_district_type\",\"type\":\"STRING\",\"mode\":\"NULLABLE\"},{\"name\":\"ccd_charter\",\"type\":\"STRING\",\"mode\":\"NULLABLE\"},{\"name\":\"ccd_district_lvl\",\"type\":\"STRING\",\"mode\":\"NULLABLE\"},{\"name\":\"ccd_district_low_grade\",\"type\":\"STRING\",\"mode\":\"NULLABLE\"},{\"name\":\"ccd_district_high_grade\",\"type\":\"STRING\",\"mode\":\"NULLABLE\"},{\"name\":\"school_nces_id\",\"type\":\"INTEGER\",\"mode\":\"NULLABLE\"},{\"name\":\"school_state_id\",\"type\":\"FLOAT\",\"mode\":\"NULLABLE\"},{\"name\":\"school\",\"type\":\"STRING\",\"mode\":\"NULLABLE\"},{\"name\":\"school_state_type\",\"type\":\"STRING\",\"mode\":\"NULLABLE\"},{\"name\":\"ccd_school_type\",\"type\":\"STRING\",\"mode\":\"NULLABLE\"},{\"name\":\"ccd_charter_school\",\"type\":\"BOOLEAN\",\"mode\":\"NULLABLE\"},{\"name\":\"ccd_school_lvl\",\"type\":\"STRING\",\"mode\":\"NULLABLE\"},{\"name\":\"ccd_school_low_grade\",\"type\":\"STRING\",\"mode\":\"NULLABLE\"},{\"name\":\"ccd_school_high_grade\",\"type\":\"STRING\",\"mode\":\"NULLABLE\"},{\"name\":\"year\",\"type\":\"INTEGER\",\"mode\":\"NULLABLE\"},{\"name\":\"term\",\"type\":\"STRING\",\"mode\":\"NULLABLE\"},{\"name\":\"grade\",\"type\":\"STRING\",\"mode\":\"NULLABLE\"},{\"name\":\"white\",\"type\":\"STRING\",\"mode\":\"NULLABLE\"},{\"name\":\"black\",\"type\":\"STRING\",\"mode\":\"NULLABLE\"},{\"name\":\"hispanic\",\"type\":\"STRING\",\"mode\":\"NULLABLE\"},{\"name\":\"native_american\",\"type\":\"STRING\",\"mode\":\"NULLABLE\"},{\"name\":\"native_american_alaskan_native\",\"type\":\"STRING\",\"mode\":\"NULLABLE\"},{\"name\":\"asian\",\"type\":\"STRING\",\"mode\":\"NULLABLE\"},{\"name\":\"native_hawaiian\",\"type\":\"STRING\",\"mode\":\"NULLABLE\"},{\"name\":\"asian_pacific_islander\",\"type\":\"STRING\",\"mode\":\"NULLABLE\"},{\"name\":\"native_hawaiian_pacific_islander\",\"type\":\"STRING\",\"mode\":\"NULLABLE\"},{\"name\":\"pacific_islander\",\"type\":\"STRING\",\"mode\":\"NULLABLE\"},{\"name\":\"multiracial\",\"type\":\"STRING\",\"mode\":\"NULLABLE\"},{\"name\":\"unknown_race\",\"type\":\"STRING\",\"mode\":\"NULLABLE\"},{\"name\":\"male\",\"type\":\"STRING\",\"mode\":\"NULLABLE\"},{\"name\":\"female\",\"type\":\"STRING\",\"mode\":\"NULLABLE\"},{\"name\":\"non_binary\",\"type\":\"STRING\",\"mode\":\"NULLABLE\"},{\"name\":\"unknown_gender\",\"type\":\"STRING\",\"mode\":\"NULLABLE\"},{\"name\":\"ell\",\"type\":\"STRING\",\"mode\":\"NULLABLE\"},{\"name\":\"ell_percent\",\"type\":\"STRING\",\"mode\":\"NULLABLE\"},{\"name\":\"homeless\",\"type\":\"STRING\",\"mode\":\"NULLABLE\"},{\"name\":\"homeless_percent\",\"type\":\"STRING\",\"mode\":\"NULLABLE\"},{\"name\":\"low_income\",\"type\":\"STRING\",\"mode\":\"NULLABLE\"},{\"name\":\"free_and_reduced\",\"type\":\"STRING\",\"mode\":\"NULLABLE\"},{\"name\":\"free_and_reduced_percent\",\"type\":\"STRING\",\"mode\":\"NULLABLE\"},{\"name\":\"disability\",\"type\":\"STRING\",\"mode\":\"NULLABLE\"},{\"name\":\"section_504\",\"type\":\"STRING\",\"mode\":\"NULLABLE\"},{\"name\":\"total\",\"type\":\"STRING\",\"mode\":\"NULLABLE\"}]\n"
     ]
    }
   ],
   "source": [
    "!bq show --schema=true $dataset_id.tx"
   ]
  },
  {
   "cell_type": "markdown",
   "metadata": {},
   "source": [
    "#### Note: STRING type for \"total\" column"
   ]
  },
  {
   "cell_type": "code",
   "execution_count": 23,
   "metadata": {},
   "outputs": [
    {
     "data": {
      "application/vnd.jupyter.widget-view+json": {
       "model_id": "ce5a64dc4fa94c05b449daf670d5d4ec",
       "version_major": 2,
       "version_minor": 0
      },
      "text/plain": [
       "Query is running:   0%|          |"
      ]
     },
     "metadata": {},
     "output_type": "display_data"
    },
    {
     "data": {
      "application/vnd.jupyter.widget-view+json": {
       "model_id": "ed581cba57b248f5a2cb36326cb66543",
       "version_major": 2,
       "version_minor": 0
      },
      "text/plain": [
       "Downloading:   0%|          |"
      ]
     },
     "metadata": {},
     "output_type": "display_data"
    },
    {
     "data": {
      "text/html": [
       "<div>\n",
       "<style scoped>\n",
       "    .dataframe tbody tr th:only-of-type {\n",
       "        vertical-align: middle;\n",
       "    }\n",
       "\n",
       "    .dataframe tbody tr th {\n",
       "        vertical-align: top;\n",
       "    }\n",
       "\n",
       "    .dataframe thead th {\n",
       "        text-align: right;\n",
       "    }\n",
       "</style>\n",
       "<table border=\"1\" class=\"dataframe\">\n",
       "  <thead>\n",
       "    <tr style=\"text-align: right;\">\n",
       "      <th></th>\n",
       "      <th>school</th>\n",
       "      <th>grade</th>\n",
       "      <th>year</th>\n",
       "      <th>total</th>\n",
       "    </tr>\n",
       "  </thead>\n",
       "  <tbody>\n",
       "    <tr>\n",
       "      <th>0</th>\n",
       "      <td>AKINS H S</td>\n",
       "      <td>grade_10</td>\n",
       "      <td>2020</td>\n",
       "      <td>2880</td>\n",
       "    </tr>\n",
       "    <tr>\n",
       "      <th>1</th>\n",
       "      <td>AKINS H S</td>\n",
       "      <td>grade_10</td>\n",
       "      <td>2021</td>\n",
       "      <td>2988</td>\n",
       "    </tr>\n",
       "    <tr>\n",
       "      <th>2</th>\n",
       "      <td>AKINS H S</td>\n",
       "      <td>grade_11</td>\n",
       "      <td>2020</td>\n",
       "      <td>2656</td>\n",
       "    </tr>\n",
       "    <tr>\n",
       "      <th>3</th>\n",
       "      <td>AKINS H S</td>\n",
       "      <td>grade_11</td>\n",
       "      <td>2021</td>\n",
       "      <td>2652</td>\n",
       "    </tr>\n",
       "    <tr>\n",
       "      <th>4</th>\n",
       "      <td>AKINS H S</td>\n",
       "      <td>grade_12</td>\n",
       "      <td>2020</td>\n",
       "      <td>2436</td>\n",
       "    </tr>\n",
       "    <tr>\n",
       "      <th>...</th>\n",
       "      <td>...</td>\n",
       "      <td>...</td>\n",
       "      <td>...</td>\n",
       "      <td>...</td>\n",
       "    </tr>\n",
       "    <tr>\n",
       "      <th>1734</th>\n",
       "      <td>ZILKER EL</td>\n",
       "      <td>grade_5</td>\n",
       "      <td>2021</td>\n",
       "      <td>276</td>\n",
       "    </tr>\n",
       "    <tr>\n",
       "      <th>1735</th>\n",
       "      <td>ZILKER EL</td>\n",
       "      <td>kindergarten</td>\n",
       "      <td>2020</td>\n",
       "      <td>308</td>\n",
       "    </tr>\n",
       "    <tr>\n",
       "      <th>1736</th>\n",
       "      <td>ZILKER EL</td>\n",
       "      <td>kindergarten</td>\n",
       "      <td>2021</td>\n",
       "      <td>252</td>\n",
       "    </tr>\n",
       "    <tr>\n",
       "      <th>1737</th>\n",
       "      <td>ZILKER EL</td>\n",
       "      <td>pre_kindergarten</td>\n",
       "      <td>2020</td>\n",
       "      <td>120</td>\n",
       "    </tr>\n",
       "    <tr>\n",
       "      <th>1738</th>\n",
       "      <td>ZILKER EL</td>\n",
       "      <td>pre_kindergarten</td>\n",
       "      <td>2021</td>\n",
       "      <td>52</td>\n",
       "    </tr>\n",
       "  </tbody>\n",
       "</table>\n",
       "<p>1739 rows × 4 columns</p>\n",
       "</div>"
      ],
      "text/plain": [
       "         school             grade  year  total\n",
       "0     AKINS H S          grade_10  2020   2880\n",
       "1     AKINS H S          grade_10  2021   2988\n",
       "2     AKINS H S          grade_11  2020   2656\n",
       "3     AKINS H S          grade_11  2021   2652\n",
       "4     AKINS H S          grade_12  2020   2436\n",
       "...         ...               ...   ...    ...\n",
       "1734  ZILKER EL           grade_5  2021    276\n",
       "1735  ZILKER EL      kindergarten  2020    308\n",
       "1736  ZILKER EL      kindergarten  2021    252\n",
       "1737  ZILKER EL  pre_kindergarten  2020    120\n",
       "1738  ZILKER EL  pre_kindergarten  2021     52\n",
       "\n",
       "[1739 rows x 4 columns]"
      ]
     },
     "execution_count": 23,
     "metadata": {},
     "output_type": "execute_result"
    }
   ],
   "source": [
    "%%bigquery\n",
    "select school, grade, year, sum(cast(replace(replace(total, \",\", \"\"), \"<\", \"\") as int64)) as total\n",
    "from school_enrollments.tx\n",
    "where total != \"\" and school != \"\" and district like '%AUSTIN%'\n",
    "group by school, grade, year\n",
    "order by school, grade, year"
   ]
  },
  {
   "cell_type": "markdown",
   "metadata": {},
   "source": [
    "##### Documentation on BQ's string functions: https://cloud.google.com/bigquery/docs/reference/standard-sql/string_functions"
   ]
  },
  {
   "cell_type": "code",
   "execution_count": 24,
   "metadata": {},
   "outputs": [
    {
     "name": "stdout",
     "output_type": "stream",
     "text": [
      "BigQuery error in mk operation: Dataset 'datamaxxing:views' already exists.\n"
     ]
    }
   ],
   "source": [
    "!bq --location=US mk --dataset \"views\""
   ]
  },
  {
   "cell_type": "code",
   "execution_count": 25,
   "metadata": {},
   "outputs": [
    {
     "name": "stdout",
     "output_type": "stream",
     "text": [
      "Executing query with job ID: 4594352e-4f61-4e23-868d-1f8163888c72\n",
      "Query executing: 0.73s"
     ]
    },
    {
     "name": "stderr",
     "output_type": "stream",
     "text": [
      "\n",
      "ERROR:\n",
      " 409 Already Exists: Table datamaxxing:views.austin_enrollments_by_school_grade_year; reason: duplicate, message: Already Exists: Table datamaxxing:views.austin_enrollments_by_school_grade_year\n",
      "\n",
      "Location: US\n",
      "Job ID: 4594352e-4f61-4e23-868d-1f8163888c72\n",
      "\n"
     ]
    }
   ],
   "source": [
    "%%bigquery\n",
    "create view views.austin_enrollments_by_school_grade_year as\n",
    "select school, grade, year, sum(cast(replace(replace(total, \",\", \"\"), \"<\", \"\") as int64)) as total\n",
    "from school_enrollments.tx\n",
    "where total != \"\" and school != \"\" and district like '%AUSTIN%'\n",
    "group by school, grade, year\n",
    "order by school, grade, year"
   ]
  },
  {
   "cell_type": "code",
   "execution_count": 26,
   "metadata": {},
   "outputs": [
    {
     "data": {
      "application/vnd.jupyter.widget-view+json": {
       "model_id": "83ceaca0207b4def8fe4677673e93dc2",
       "version_major": 2,
       "version_minor": 0
      },
      "text/plain": [
       "Query is running:   0%|          |"
      ]
     },
     "metadata": {},
     "output_type": "display_data"
    },
    {
     "data": {
      "application/vnd.jupyter.widget-view+json": {
       "model_id": "56f3c281621b4e7d956720e34324e595",
       "version_major": 2,
       "version_minor": 0
      },
      "text/plain": [
       "Downloading:   0%|          |"
      ]
     },
     "metadata": {},
     "output_type": "display_data"
    },
    {
     "data": {
      "text/html": [
       "<div>\n",
       "<style scoped>\n",
       "    .dataframe tbody tr th:only-of-type {\n",
       "        vertical-align: middle;\n",
       "    }\n",
       "\n",
       "    .dataframe tbody tr th {\n",
       "        vertical-align: top;\n",
       "    }\n",
       "\n",
       "    .dataframe thead th {\n",
       "        text-align: right;\n",
       "    }\n",
       "</style>\n",
       "<table border=\"1\" class=\"dataframe\">\n",
       "  <thead>\n",
       "    <tr style=\"text-align: right;\">\n",
       "      <th></th>\n",
       "      <th>school</th>\n",
       "      <th>grade</th>\n",
       "      <th>year</th>\n",
       "      <th>total</th>\n",
       "    </tr>\n",
       "  </thead>\n",
       "  <tbody>\n",
       "    <tr>\n",
       "      <th>0</th>\n",
       "      <td>AKINS H S</td>\n",
       "      <td>grade_10</td>\n",
       "      <td>2020</td>\n",
       "      <td>2880</td>\n",
       "    </tr>\n",
       "    <tr>\n",
       "      <th>1</th>\n",
       "      <td>AKINS H S</td>\n",
       "      <td>grade_10</td>\n",
       "      <td>2021</td>\n",
       "      <td>2988</td>\n",
       "    </tr>\n",
       "    <tr>\n",
       "      <th>2</th>\n",
       "      <td>AKINS H S</td>\n",
       "      <td>grade_11</td>\n",
       "      <td>2020</td>\n",
       "      <td>2656</td>\n",
       "    </tr>\n",
       "    <tr>\n",
       "      <th>3</th>\n",
       "      <td>AKINS H S</td>\n",
       "      <td>grade_11</td>\n",
       "      <td>2021</td>\n",
       "      <td>2652</td>\n",
       "    </tr>\n",
       "    <tr>\n",
       "      <th>4</th>\n",
       "      <td>AKINS H S</td>\n",
       "      <td>grade_12</td>\n",
       "      <td>2020</td>\n",
       "      <td>2436</td>\n",
       "    </tr>\n",
       "    <tr>\n",
       "      <th>...</th>\n",
       "      <td>...</td>\n",
       "      <td>...</td>\n",
       "      <td>...</td>\n",
       "      <td>...</td>\n",
       "    </tr>\n",
       "    <tr>\n",
       "      <th>1734</th>\n",
       "      <td>ZILKER EL</td>\n",
       "      <td>grade_5</td>\n",
       "      <td>2021</td>\n",
       "      <td>276</td>\n",
       "    </tr>\n",
       "    <tr>\n",
       "      <th>1735</th>\n",
       "      <td>ZILKER EL</td>\n",
       "      <td>kindergarten</td>\n",
       "      <td>2020</td>\n",
       "      <td>308</td>\n",
       "    </tr>\n",
       "    <tr>\n",
       "      <th>1736</th>\n",
       "      <td>ZILKER EL</td>\n",
       "      <td>kindergarten</td>\n",
       "      <td>2021</td>\n",
       "      <td>252</td>\n",
       "    </tr>\n",
       "    <tr>\n",
       "      <th>1737</th>\n",
       "      <td>ZILKER EL</td>\n",
       "      <td>pre_kindergarten</td>\n",
       "      <td>2020</td>\n",
       "      <td>120</td>\n",
       "    </tr>\n",
       "    <tr>\n",
       "      <th>1738</th>\n",
       "      <td>ZILKER EL</td>\n",
       "      <td>pre_kindergarten</td>\n",
       "      <td>2021</td>\n",
       "      <td>52</td>\n",
       "    </tr>\n",
       "  </tbody>\n",
       "</table>\n",
       "<p>1739 rows × 4 columns</p>\n",
       "</div>"
      ],
      "text/plain": [
       "         school             grade  year  total\n",
       "0     AKINS H S          grade_10  2020   2880\n",
       "1     AKINS H S          grade_10  2021   2988\n",
       "2     AKINS H S          grade_11  2020   2656\n",
       "3     AKINS H S          grade_11  2021   2652\n",
       "4     AKINS H S          grade_12  2020   2436\n",
       "...         ...               ...   ...    ...\n",
       "1734  ZILKER EL           grade_5  2021    276\n",
       "1735  ZILKER EL      kindergarten  2020    308\n",
       "1736  ZILKER EL      kindergarten  2021    252\n",
       "1737  ZILKER EL  pre_kindergarten  2020    120\n",
       "1738  ZILKER EL  pre_kindergarten  2021     52\n",
       "\n",
       "[1739 rows x 4 columns]"
      ]
     },
     "execution_count": 26,
     "metadata": {},
     "output_type": "execute_result"
    }
   ],
   "source": [
    "%%bigquery\n",
    "select * from views.austin_enrollments_by_school_grade_year"
   ]
  },
  {
   "cell_type": "markdown",
   "metadata": {},
   "source": [
    "#### 4. Open Data Studio and create a chart from this view:\n",
    "##### https://datastudio.google.com/"
   ]
  },
  {
   "cell_type": "code",
   "execution_count": 28,
   "metadata": {
    "tags": []
   },
   "outputs": [
    {
     "name": "stdout",
     "output_type": "stream",
     "text": [
      "Dataset 'datamaxxing:new_views' successfully created.\n"
     ]
    }
   ],
   "source": [
    "!bq mk --dataset $PROJECT_ID:new_views\n"
   ]
  },
  {
   "cell_type": "code",
   "execution_count": 36,
   "metadata": {
    "tags": []
   },
   "outputs": [
    {
     "name": "stdout",
     "output_type": "stream",
     "text": [
      "✅ Created view: total_enrollment_by_school\n",
      "✅ Created view: avg_enrollment_by_grade\n"
     ]
    }
   ],
   "source": [
    "from google.cloud import bigquery\n",
    "client = bigquery.Client()\n",
    "\n",
    "queries = {\n",
    "    \"total_enrollment_by_school\": \"\"\"\n",
    "        CREATE OR REPLACE VIEW `datamaxxing.new_views.total_enrollment_by_school` AS\n",
    "        SELECT school,\n",
    "               SUM(CAST(REPLACE(REPLACE(total, \",\", \"\"), \"<\", \"\") AS INT64)) AS total_enrollment\n",
    "        FROM `datamaxxing.school_enrollments.tx`\n",
    "        WHERE total != \"\" AND school != \"\"\n",
    "        GROUP BY school\n",
    "        ORDER BY total_enrollment DESC;\n",
    "    \"\"\",\n",
    "    \"avg_enrollment_by_grade\": \"\"\"\n",
    "        CREATE OR REPLACE VIEW `datamaxxing.new_views.avg_enrollment_by_grade` AS\n",
    "        SELECT grade,\n",
    "               ROUND(AVG(CAST(REPLACE(REPLACE(total, \",\", \"\"), \"<\", \"\") AS INT64))) AS avg_enrollment\n",
    "        FROM `datamaxxing.school_enrollments.tx`\n",
    "        WHERE total != \"\" AND grade != \"\"\n",
    "        GROUP BY grade\n",
    "        ORDER BY avg_enrollment DESC;\n",
    "    \"\"\"\n",
    "}\n",
    "\n",
    "for name, query in queries.items():\n",
    "    client.query(query)\n",
    "    print(f\"✅ Created view: {name}\")\n",
    "    \n"
   ]
  },
  {
   "cell_type": "code",
   "execution_count": 35,
   "metadata": {
    "tags": []
   },
   "outputs": [],
   "source": [
    "from google.cloud import bigquery\n",
    "\n",
    "dataset_ref = bigquery.DatasetReference(\"datamaxxing\", \"new_views\")\n",
    "\n",
    "for view in client.list_tables(dataset_ref):\n",
    "    print(view.table_id)\n"
   ]
  },
  {
   "cell_type": "markdown",
   "metadata": {},
   "source": [
    "#### Project 3 homework marker. Start homework from here. "
   ]
  },
  {
   "cell_type": "code",
   "execution_count": null,
   "metadata": {
    "tags": []
   },
   "outputs": [],
   "source": [
    "%%bigquery\n",
    "-- Query 1: Finds total enrollment per school across all years. \n",
    "\n",
    "SELECT \n",
    "  school,\n",
    "  SUM(CAST(REPLACE(REPLACE(total, \",\", \"\"), \"<\", \"\") AS INT64)) AS total_enrollment\n",
    "FROM `school_enrollments.tx`\n",
    "WHERE total != \"\" AND school != \"\"\n",
    "GROUP BY school\n",
    "ORDER BY total_enrollment DESC;"
   ]
  },
  {
   "cell_type": "code",
   "execution_count": null,
   "metadata": {
    "tags": []
   },
   "outputs": [],
   "source": [
    "%%bigquery\n",
    "-- Query 2: Find the average enrollment for each grade level across all schools\n",
    "SELECT \n",
    "  grade,\n",
    "  ROUND(AVG(CAST(REPLACE(REPLACE(total, \",\", \"\"), \"<\", \"\") AS INT64)), 2) AS avg_enrollment\n",
    "FROM `school_enrollments.tx`\n",
    "WHERE total != \"\" AND grade != \"\"\n",
    "GROUP BY grade\n",
    "ORDER BY avg_enrollment DESC;"
   ]
  },
  {
   "cell_type": "code",
   "execution_count": null,
   "metadata": {
    "tags": []
   },
   "outputs": [],
   "source": [
    "%%bigquery\n",
    "-- Query 3: Find schools with average yearly enrollment greater than 500\n",
    "SELECT \n",
    "  school,\n",
    "  year,\n",
    "  AVG(CAST(REPLACE(REPLACE(total, \",\", \"\"), \"<\", \"\") AS INT64)) AS avg_enrollment\n",
    "FROM `school_enrollments.tx`\n",
    "WHERE total != \"\" AND school != \"\"\n",
    "GROUP BY school, year\n",
    "HAVING AVG(CAST(REPLACE(REPLACE(total, \",\", \"\"), \"<\", \"\") AS INT64)) > 500\n",
    "ORDER BY avg_enrollment DESC;"
   ]
  },
  {
   "cell_type": "code",
   "execution_count": null,
   "metadata": {
    "tags": []
   },
   "outputs": [],
   "source": [
    "%%bigquery\n",
    "-- Query 4: Find schools with total enrollment below 400 in 2021\n",
    "SELECT \n",
    "  school,\n",
    "  SUM(CAST(REPLACE(REPLACE(total, \",\", \"\"), \"<\", \"\") AS INT64)) AS total_2021\n",
    "FROM `school_enrollments.tx`\n",
    "WHERE \n",
    "  year = 2021\n",
    "  AND total != \"\" \n",
    "  AND school != \"\"\n",
    "GROUP BY school\n",
    "HAVING SUM(CAST(REPLACE(REPLACE(total, \",\", \"\"), \"<\", \"\") AS INT64)) < 400\n",
    "ORDER BY total_2021;"
   ]
  },
  {
   "cell_type": "code",
   "execution_count": null,
   "metadata": {
    "tags": []
   },
   "outputs": [],
   "source": [
    "%%bigquery\n",
    "-- Query 5: Compare total enrollment between 2020 and 2021 \n",
    "SELECT\n",
    "  '2020' AS year_label,\n",
    "  SUM(CAST(REPLACE(REPLACE(total, \",\", \"\"), \"<\", \"\") AS INT64)) AS total_enrollment\n",
    "FROM `school_enrollments.tx`\n",
    "WHERE year = 2020 AND total != \"\"\n",
    "UNION ALL\n",
    "SELECT \n",
    "  '2021' AS year_label,\n",
    "  SUM(CAST(REPLACE(REPLACE(total, \",\", \"\"), \"<\", \"\") AS INT64)) AS total_enrollment\n",
    "FROM `school_enrollments.tx`\n",
    "WHERE year = 2021 AND total != \"\"\n",
    "ORDER BY year_label;"
   ]
  },
  {
   "cell_type": "code",
   "execution_count": null,
   "metadata": {
    "tags": []
   },
   "outputs": [],
   "source": [
    "%%bigquery\n",
    "-- Query 6: Find grades with average enrollment above 100 students in any year\n",
    "SELECT \n",
    "  year,\n",
    "  grade,\n",
    "  AVG(CAST(REPLACE(REPLACE(total, \",\", \"\"), \"<\", \"\") AS INT64)) AS avg_enrollment\n",
    "FROM `school_enrollments.tx`\n",
    "WHERE total != \"\"\n",
    "GROUP BY year, grade\n",
    "HAVING AVG(CAST(REPLACE(REPLACE(total, \",\", \"\"), \"<\", \"\") AS INT64)) > 100\n",
    "ORDER BY year, avg_enrollment DESC;"
   ]
  },
  {
   "cell_type": "code",
   "execution_count": null,
   "metadata": {
    "tags": []
   },
   "outputs": [],
   "source": [
    "%%bigquery\n",
    "-- Query 7: Top 5 schools with highest average enrollment in 2021\n",
    "SELECT \n",
    "  school,\n",
    "  ROUND(AVG(CAST(REPLACE(REPLACE(total, \",\", \"\"), \"<\", \"\") AS INT64)), 2) AS avg_enrollment_2021\n",
    "FROM `school_enrollments.tx`\n",
    "WHERE \n",
    "  year = 2021\n",
    "  AND total != \"\"\n",
    "  AND school != \"\"\n",
    "GROUP BY school\n",
    "ORDER BY avg_enrollment_2021 DESC\n",
    "LIMIT 5;"
   ]
  },
  {
   "cell_type": "code",
   "execution_count": null,
   "metadata": {
    "tags": []
   },
   "outputs": [],
   "source": [
    "%%bigquery\n",
    "-- Query 8: Combine elementary and high school enrollment summaries\n",
    "SELECT \n",
    "  school,\n",
    "  'Elementary' AS school_level,\n",
    "  SUM(CAST(REPLACE(REPLACE(total, \",\", \"\"), \"<\", \"\") AS INT64)) AS total_enrollment\n",
    "FROM `school_enrollments.tx`\n",
    "WHERE \n",
    "  grade IN ('pre_kindergarten', 'kindergarten', 'grade_1', 'grade_2', 'grade_3', 'grade_4', 'grade_5')\n",
    "  AND total != \"\"\n",
    "GROUP BY school\n",
    "\n",
    "UNION DISTINCT\n",
    "\n",
    "SELECT \n",
    "  school,\n",
    "  'High School' AS school_level,\n",
    "  SUM(CAST(REPLACE(REPLACE(total, \",\", \"\"), \"<\", \"\") AS INT64)) AS total_enrollment\n",
    "FROM `school_enrollments.tx`\n",
    "WHERE \n",
    "  (grade LIKE 'grade_1%' OR grade = 'grade_12')\n",
    "  AND total != \"\"\n",
    "GROUP BY school\n",
    "ORDER BY total_enrollment DESC;"
   ]
  }
 ],
 "metadata": {
  "environment": {
   "kernel": "conda-base-py",
   "name": "workbench-notebooks.m133",
   "type": "gcloud",
   "uri": "us-docker.pkg.dev/deeplearning-platform-release/gcr.io/workbench-notebooks:m133"
  },
  "kernelspec": {
   "display_name": "Python 3 (ipykernel) (Local)",
   "language": "python",
   "name": "conda-base-py"
  },
  "language_info": {
   "codemirror_mode": {
    "name": "ipython",
    "version": 3
   },
   "file_extension": ".py",
   "mimetype": "text/x-python",
   "name": "python",
   "nbconvert_exporter": "python",
   "pygments_lexer": "ipython3",
   "version": "3.10.18"
  }
 },
 "nbformat": 4,
 "nbformat_minor": 4
}
